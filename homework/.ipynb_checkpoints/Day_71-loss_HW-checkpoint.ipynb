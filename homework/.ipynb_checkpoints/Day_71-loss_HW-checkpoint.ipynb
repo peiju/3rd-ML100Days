{
 "cells": [
  {
   "cell_type": "markdown",
   "metadata": {
    "colab_type": "text",
    "id": "cj4tE8e8iUtO"
   },
   "source": [
    "#   \n",
    "\n",
    "# 作業目標:\n",
    "\n",
    "    1. 藉由固定的 dataset, 來驗證不同loss function\n",
    "    2. Dataset 的特性跟我們選用的loss function 對accrancy 的影響\n",
    "    \n",
    "    \n",
    "# 作業重點: \n",
    "    請分別選用 \"MSE\", \"binary _crossentropy\"\n",
    "    查看Train/test accurancy and loss rate\n",
    "    "
   ]
  },
  {
   "cell_type": "markdown",
   "metadata": {
    "colab_type": "text",
    "id": "R51J4KyyiUsL"
   },
   "source": [
    "# 導入必要的函數"
   ]
  },
  {
   "cell_type": "code",
   "execution_count": 1,
   "metadata": {
    "colab": {},
    "colab_type": "code",
    "id": "Qd68OQjciUsM"
   },
   "outputs": [
    {
     "name": "stderr",
     "output_type": "stream",
     "text": [
      "Using TensorFlow backend.\n"
     ]
    }
   ],
   "source": [
    "from keras.datasets import cifar10\n",
    "import numpy as np\n",
    "np.random.seed(10)"
   ]
  },
  {
   "cell_type": "markdown",
   "metadata": {
    "colab_type": "text",
    "id": "GxKuzQLQiUsP"
   },
   "source": [
    "# 資料準備"
   ]
  },
  {
   "cell_type": "code",
   "execution_count": 2,
   "metadata": {
    "colab": {},
    "colab_type": "code",
    "id": "MIbFZdTCiUsQ"
   },
   "outputs": [],
   "source": [
    "#取得Keras Dataset\n",
    "(x_img_train,y_label_train),(x_img_test,y_label_test)=cifar10.load_data()"
   ]
  },
  {
   "cell_type": "code",
   "execution_count": 3,
   "metadata": {
    "colab": {},
    "colab_type": "code",
    "id": "J8CJVjNOiUsS"
   },
   "outputs": [
    {
     "name": "stdout",
     "output_type": "stream",
     "text": [
      "train data: images: (50000, 32, 32, 3)  labels: (50000, 1)\n",
      "test  data: images: (10000, 32, 32, 3)  labels: (10000, 1)\n"
     ]
    }
   ],
   "source": [
    "#確認 CIFAR10 Dataset 資料維度\n",
    "print(\"train data:\",'images:',x_img_train.shape,\n",
    "      \" labels:\",y_label_train.shape) \n",
    "print(\"test  data:\",'images:',x_img_test.shape ,\n",
    "      \" labels:\",y_label_test.shape) "
   ]
  },
  {
   "cell_type": "code",
   "execution_count": 4,
   "metadata": {
    "colab": {},
    "colab_type": "code",
    "id": "V3P6P4DXiUsV"
   },
   "outputs": [],
   "source": [
    "#資料正規化\n",
    "x_img_train_normalize = x_img_train.astype('float32') / 255.0\n",
    "x_img_test_normalize = x_img_test.astype('float32') / 255.0"
   ]
  },
  {
   "cell_type": "code",
   "execution_count": 5,
   "metadata": {
    "colab": {},
    "colab_type": "code",
    "id": "vsDyjKYliUsX"
   },
   "outputs": [
    {
     "data": {
      "text/plain": [
       "(10000, 10)"
      ]
     },
     "execution_count": 5,
     "metadata": {},
     "output_type": "execute_result"
    }
   ],
   "source": [
    "#針對Label 做 ONE HOT ENCODE\n",
    "from keras.utils import np_utils\n",
    "y_label_train_OneHot = np_utils.to_categorical(y_label_train)\n",
    "y_label_test_OneHot = np_utils.to_categorical(y_label_test)\n",
    "y_label_test_OneHot.shape"
   ]
  },
  {
   "cell_type": "markdown",
   "metadata": {
    "colab_type": "text",
    "id": "RutW2OtgiUsZ"
   },
   "source": [
    "# 建立模型"
   ]
  },
  {
   "cell_type": "code",
   "execution_count": 6,
   "metadata": {
    "colab": {},
    "colab_type": "code",
    "id": "aHz592aXiUsa"
   },
   "outputs": [],
   "source": [
    "from keras.models import Sequential\n",
    "from keras.layers import Dense, Dropout, Activation, Flatten\n",
    "from keras.layers import Conv2D, MaxPooling2D, ZeroPadding2D"
   ]
  },
  {
   "cell_type": "code",
   "execution_count": 7,
   "metadata": {
    "colab": {},
    "colab_type": "code",
    "id": "hslqrIp0iUse"
   },
   "outputs": [],
   "source": [
    "model = Sequential()"
   ]
  },
  {
   "cell_type": "code",
   "execution_count": 8,
   "metadata": {
    "colab": {},
    "colab_type": "code",
    "id": "Hqe35hs2iUsi"
   },
   "outputs": [],
   "source": [
    "#卷積層1"
   ]
  },
  {
   "cell_type": "code",
   "execution_count": 9,
   "metadata": {
    "colab": {},
    "colab_type": "code",
    "id": "ED7dqe1YiUsm"
   },
   "outputs": [],
   "source": [
    "model.add(Conv2D(filters=32,kernel_size=(3,3),\n",
    "                 input_shape=(32, 32,3), \n",
    "                 activation='relu', \n",
    "                 padding='same'))"
   ]
  },
  {
   "cell_type": "code",
   "execution_count": 10,
   "metadata": {
    "colab": {},
    "colab_type": "code",
    "id": "n-GRKmPViUso"
   },
   "outputs": [],
   "source": [
    "model.add(Dropout(rate=0.25))"
   ]
  },
  {
   "cell_type": "code",
   "execution_count": 11,
   "metadata": {
    "colab": {},
    "colab_type": "code",
    "id": "GlWnnD1uiUsw"
   },
   "outputs": [],
   "source": [
    "model.add(MaxPooling2D(pool_size=(2, 2)))"
   ]
  },
  {
   "cell_type": "code",
   "execution_count": 12,
   "metadata": {
    "colab": {},
    "colab_type": "code",
    "id": "nawlkt55iUsy"
   },
   "outputs": [],
   "source": [
    "#卷積層2與池化層2"
   ]
  },
  {
   "cell_type": "code",
   "execution_count": 13,
   "metadata": {
    "colab": {},
    "colab_type": "code",
    "id": "xxyETiKNiUs1"
   },
   "outputs": [],
   "source": [
    "model.add(Conv2D(filters=64, kernel_size=(3, 3), \n",
    "                 activation='relu', padding='same'))"
   ]
  },
  {
   "cell_type": "code",
   "execution_count": 14,
   "metadata": {
    "colab": {},
    "colab_type": "code",
    "id": "RqcKWtqGiUs2"
   },
   "outputs": [],
   "source": [
    "model.add(Dropout(0.25))"
   ]
  },
  {
   "cell_type": "code",
   "execution_count": 15,
   "metadata": {
    "colab": {},
    "colab_type": "code",
    "id": "BUOOzlqfiUs4"
   },
   "outputs": [],
   "source": [
    "model.add(MaxPooling2D(pool_size=(2, 2)))"
   ]
  },
  {
   "cell_type": "code",
   "execution_count": 16,
   "metadata": {
    "colab": {},
    "colab_type": "code",
    "id": "LpkppB2siUs7"
   },
   "outputs": [],
   "source": [
    "#建立神經網路(平坦層、隱藏層、輸出層)"
   ]
  },
  {
   "cell_type": "code",
   "execution_count": 17,
   "metadata": {
    "colab": {},
    "colab_type": "code",
    "id": "UQOfU54_iUs_"
   },
   "outputs": [],
   "source": [
    "model.add(Flatten())\n",
    "model.add(Dropout(rate=0.25))"
   ]
  },
  {
   "cell_type": "code",
   "execution_count": 18,
   "metadata": {
    "colab": {},
    "colab_type": "code",
    "id": "_NV-8sq4iUtD"
   },
   "outputs": [],
   "source": [
    "model.add(Dense(1024, activation='relu'))\n",
    "model.add(Dropout(rate=0.25))"
   ]
  },
  {
   "cell_type": "code",
   "execution_count": 19,
   "metadata": {
    "colab": {},
    "colab_type": "code",
    "id": "qVK77krOiUtF"
   },
   "outputs": [],
   "source": [
    "model.add(Dense(10, activation='sigmoid'))"
   ]
  },
  {
   "cell_type": "code",
   "execution_count": 20,
   "metadata": {
    "colab": {},
    "colab_type": "code",
    "id": "ZxzRIjR0iUtH"
   },
   "outputs": [
    {
     "name": "stdout",
     "output_type": "stream",
     "text": [
      "Model: \"sequential_1\"\n",
      "_________________________________________________________________\n",
      "Layer (type)                 Output Shape              Param #   \n",
      "=================================================================\n",
      "conv2d_1 (Conv2D)            (None, 32, 32, 32)        896       \n",
      "_________________________________________________________________\n",
      "dropout_1 (Dropout)          (None, 32, 32, 32)        0         \n",
      "_________________________________________________________________\n",
      "max_pooling2d_1 (MaxPooling2 (None, 16, 16, 32)        0         \n",
      "_________________________________________________________________\n",
      "conv2d_2 (Conv2D)            (None, 16, 16, 64)        18496     \n",
      "_________________________________________________________________\n",
      "dropout_2 (Dropout)          (None, 16, 16, 64)        0         \n",
      "_________________________________________________________________\n",
      "max_pooling2d_2 (MaxPooling2 (None, 8, 8, 64)          0         \n",
      "_________________________________________________________________\n",
      "flatten_1 (Flatten)          (None, 4096)              0         \n",
      "_________________________________________________________________\n",
      "dropout_3 (Dropout)          (None, 4096)              0         \n",
      "_________________________________________________________________\n",
      "dense_1 (Dense)              (None, 1024)              4195328   \n",
      "_________________________________________________________________\n",
      "dropout_4 (Dropout)          (None, 1024)              0         \n",
      "_________________________________________________________________\n",
      "dense_2 (Dense)              (None, 10)                10250     \n",
      "=================================================================\n",
      "Total params: 4,224,970\n",
      "Trainable params: 4,224,970\n",
      "Non-trainable params: 0\n",
      "_________________________________________________________________\n",
      "None\n"
     ]
    }
   ],
   "source": [
    "#檢查model 的STACK\n",
    "print(model.summary())"
   ]
  },
  {
   "cell_type": "markdown",
   "metadata": {
    "colab_type": "text",
    "id": "QJCtpJM0iUtJ"
   },
   "source": [
    "# 載入之前訓練的模型"
   ]
  },
  {
   "cell_type": "code",
   "execution_count": 21,
   "metadata": {
    "colab": {},
    "colab_type": "code",
    "id": "JU3A6NzQiUtK"
   },
   "outputs": [
    {
     "name": "stdout",
     "output_type": "stream",
     "text": [
      "載入模型失敗!開始訓練一個新模型\n"
     ]
    }
   ],
   "source": [
    "try:\n",
    "    model.load_weights(\"SaveModel/cifarCnnModel.h5\")\n",
    "    print(\"載入模型成功!繼續訓練模型\")\n",
    "except :    \n",
    "    print(\"載入模型失敗!開始訓練一個新模型\")"
   ]
  },
  {
   "cell_type": "markdown",
   "metadata": {
    "colab_type": "text",
    "id": "qBbCuziziUtM"
   },
   "source": [
    "# 訓練模型"
   ]
  },
  {
   "cell_type": "code",
   "execution_count": 22,
   "metadata": {
    "colab": {},
    "colab_type": "code",
    "id": "Q6BiBcseiUtP"
   },
   "outputs": [
    {
     "name": "stdout",
     "output_type": "stream",
     "text": [
      "Train on 37500 samples, validate on 12500 samples\n",
      "Epoch 1/12\n",
      "37500/37500 [==============================] - 58s 2ms/step - loss: 2.1653 - categorical_accuracy: 0.2014 - val_loss: 2.0548 - val_categorical_accuracy: 0.2970\n",
      "Epoch 2/12\n",
      "37500/37500 [==============================] - 63s 2ms/step - loss: 1.9511 - categorical_accuracy: 0.2992 - val_loss: 1.9526 - val_categorical_accuracy: 0.3377\n",
      "Epoch 3/12\n",
      "37500/37500 [==============================] - 66s 2ms/step - loss: 1.8251 - categorical_accuracy: 0.3503 - val_loss: 1.8232 - val_categorical_accuracy: 0.3955\n",
      "Epoch 4/12\n",
      "37500/37500 [==============================] - 73s 2ms/step - loss: 1.7228 - categorical_accuracy: 0.3863 - val_loss: 1.7425 - val_categorical_accuracy: 0.4192\n",
      "Epoch 5/12\n",
      "37500/37500 [==============================] - 82s 2ms/step - loss: 1.6391 - categorical_accuracy: 0.4164 - val_loss: 1.6564 - val_categorical_accuracy: 0.4530\n",
      "Epoch 6/12\n",
      "37500/37500 [==============================] - 86s 2ms/step - loss: 1.5693 - categorical_accuracy: 0.4372 - val_loss: 1.6102 - val_categorical_accuracy: 0.4683\n",
      "Epoch 7/12\n",
      "37500/37500 [==============================] - 89s 2ms/step - loss: 1.5150 - categorical_accuracy: 0.4591 - val_loss: 1.5679 - val_categorical_accuracy: 0.4698\n",
      "Epoch 8/12\n",
      "37500/37500 [==============================] - 84s 2ms/step - loss: 1.4712 - categorical_accuracy: 0.4719 - val_loss: 1.4941 - val_categorical_accuracy: 0.5037\n",
      "Epoch 9/12\n",
      "37500/37500 [==============================] - 97s 3ms/step - loss: 1.4336 - categorical_accuracy: 0.4861 - val_loss: 1.4805 - val_categorical_accuracy: 0.5099\n",
      "Epoch 10/12\n",
      "37500/37500 [==============================] - 88s 2ms/step - loss: 1.4035 - categorical_accuracy: 0.4996 - val_loss: 1.4367 - val_categorical_accuracy: 0.5271\n",
      "Epoch 11/12\n",
      "37500/37500 [==============================] - 90s 2ms/step - loss: 1.3747 - categorical_accuracy: 0.5094 - val_loss: 1.4072 - val_categorical_accuracy: 0.5368\n",
      "Epoch 12/12\n",
      "37500/37500 [==============================] - 94s 3ms/step - loss: 1.3476 - categorical_accuracy: 0.5211 - val_loss: 1.3854 - val_categorical_accuracy: 0.5443\n"
     ]
    },
    {
     "data": {
      "text/plain": [
       "'\\n作業:\\n請分別選用 \"MSE\", \"binary_crossentropy\"\\n查看Train/test accurancy and loss rate\\n'"
      ]
     },
     "execution_count": 22,
     "metadata": {},
     "output_type": "execute_result"
    }
   ],
   "source": [
    "# final layer use softmax\n",
    "model.compile(loss='categorical_crossentropy', optimizer='sgd', metrics=['categorical_accuracy'])\n",
    "train_history=model.fit(x_img_train_normalize, y_label_train_OneHot,\n",
    "                        validation_split=0.25,\n",
    "                        epochs=12, batch_size=128, verbose=1)    \n",
    "'''\n",
    "作業:\n",
    "請分別選用 \"MSE\", \"binary_crossentropy\"\n",
    "查看Train/test accurancy and loss rate\n",
    "'''"
   ]
  },
  {
   "cell_type": "code",
   "execution_count": 23,
   "metadata": {},
   "outputs": [
    {
     "name": "stdout",
     "output_type": "stream",
     "text": [
      "10000/10000 [==============================] - 6s 554us/step\n",
      "categorical_crossentropy\n",
      "accuracy= 0.5468999743461609\n"
     ]
    }
   ],
   "source": [
    "scores = model.evaluate(x_img_test_normalize, y_label_test_OneHot)\n",
    "print(\"categorical_crossentropy\")\n",
    "print('accuracy=',scores[1])\n",
    "model.save(\"SaveModel/categorical_crossentropy.h5\")"
   ]
  },
  {
   "cell_type": "code",
   "execution_count": 24,
   "metadata": {},
   "outputs": [
    {
     "name": "stdout",
     "output_type": "stream",
     "text": [
      "[[0.01348561 0.00598503 0.09741496 0.40280977 0.04185493 0.27953488\n",
      "  0.11722513 0.01215899 0.02324933 0.00628138]\n",
      " [0.12977049 0.3912384  0.00618166 0.00184511 0.00280236 0.00042548\n",
      "  0.0020965  0.00087987 0.35142323 0.11333689]]\n",
      "[[0. 0. 0. 1. 0. 0. 0. 0. 0. 0.]\n",
      " [0. 0. 0. 0. 0. 0. 0. 0. 1. 0.]]\n"
     ]
    }
   ],
   "source": [
    "print(model.predict(x_img_test_normalize[0:2]))\n",
    "print(y_label_test_OneHot[0:2])\n"
   ]
  },
  {
   "cell_type": "code",
   "execution_count": 21,
   "metadata": {
    "colab": {},
    "colab_type": "code",
    "id": "4-GdDgmQiUtS"
   },
   "outputs": [
    {
     "name": "stdout",
     "output_type": "stream",
     "text": [
      "Train on 37500 samples, validate on 12500 samples\n",
      "Epoch 1/12\n",
      "37500/37500 [==============================] - 95s 3ms/step - loss: 0.1073 - categorical_accuracy: 0.1025 - val_loss: 0.0986 - val_categorical_accuracy: 0.1048\n",
      "Epoch 2/12\n",
      "37500/37500 [==============================] - 92s 2ms/step - loss: 0.0927 - categorical_accuracy: 0.1067 - val_loss: 0.0979 - val_categorical_accuracy: 0.1187\n",
      "Epoch 3/12\n",
      "37500/37500 [==============================] - 86s 2ms/step - loss: 0.0924 - categorical_accuracy: 0.1134 - val_loss: 0.0978 - val_categorical_accuracy: 0.1440\n",
      "Epoch 4/12\n",
      "37500/37500 [==============================] - 86s 2ms/step - loss: 0.0922 - categorical_accuracy: 0.1170 - val_loss: 0.0980 - val_categorical_accuracy: 0.1522\n",
      "Epoch 5/12\n",
      "37500/37500 [==============================] - 87s 2ms/step - loss: 0.0920 - categorical_accuracy: 0.1220 - val_loss: 0.0979 - val_categorical_accuracy: 0.1564\n",
      "Epoch 6/12\n",
      "37500/37500 [==============================] - 89s 2ms/step - loss: 0.0918 - categorical_accuracy: 0.1258 - val_loss: 0.0980 - val_categorical_accuracy: 0.1587\n",
      "Epoch 7/12\n",
      "37500/37500 [==============================] - 92s 2ms/step - loss: 0.0916 - categorical_accuracy: 0.1311 - val_loss: 0.0980 - val_categorical_accuracy: 0.1632\n",
      "Epoch 8/12\n",
      "37500/37500 [==============================] - 90s 2ms/step - loss: 0.0914 - categorical_accuracy: 0.1341 - val_loss: 0.0979 - val_categorical_accuracy: 0.1660\n",
      "Epoch 9/12\n",
      "37500/37500 [==============================] - 88s 2ms/step - loss: 0.0913 - categorical_accuracy: 0.1382 - val_loss: 0.0979 - val_categorical_accuracy: 0.1701\n",
      "Epoch 10/12\n",
      "37500/37500 [==============================] - 85s 2ms/step - loss: 0.0911 - categorical_accuracy: 0.1424 - val_loss: 0.0979 - val_categorical_accuracy: 0.1791\n",
      "Epoch 11/12\n",
      "37500/37500 [==============================] - 84s 2ms/step - loss: 0.0910 - categorical_accuracy: 0.1444 - val_loss: 0.0980 - val_categorical_accuracy: 0.1812\n",
      "Epoch 12/12\n",
      "37500/37500 [==============================] - 84s 2ms/step - loss: 0.0908 - categorical_accuracy: 0.1492 - val_loss: 0.0979 - val_categorical_accuracy: 0.1862\n"
     ]
    }
   ],
   "source": [
    "# final layer use sigmoid\n",
    "model.compile(loss= 'mean_squared_error', optimizer='sgd', metrics=['categorical_accuracy'])\n",
    "train_history=model.fit(x_img_train_normalize, y_label_train_OneHot,\n",
    "                        validation_split=0.25,\n",
    "                        epochs=12, batch_size=128, verbose=1)"
   ]
  },
  {
   "cell_type": "code",
   "execution_count": 22,
   "metadata": {},
   "outputs": [
    {
     "name": "stdout",
     "output_type": "stream",
     "text": [
      "10000/10000 [==============================] - 5s 517us/step\n",
      "mean_squared_error\n",
      "accuracy= 0.18520000576972961\n"
     ]
    }
   ],
   "source": [
    "scores = model.evaluate(x_img_test_normalize, y_label_test_OneHot)\n",
    "print(\"mean_squared_error\")\n",
    "print('accuracy=',scores[1])\n",
    "model.save(\"SaveModel/mean_squared_error.h5\")"
   ]
  },
  {
   "cell_type": "code",
   "execution_count": 23,
   "metadata": {},
   "outputs": [
    {
     "name": "stdout",
     "output_type": "stream",
     "text": [
      "Train on 37500 samples, validate on 12500 samples\n",
      "Epoch 1/12\n",
      "37500/37500 [==============================] - 95s 3ms/step - loss: 0.2543 - categorical_accuracy: 0.3999 - val_loss: 0.2439 - val_categorical_accuracy: 0.5303\n",
      "Epoch 2/12\n",
      "37500/37500 [==============================] - 94s 3ms/step - loss: 0.2003 - categorical_accuracy: 0.5552 - val_loss: 0.2015 - val_categorical_accuracy: 0.5954\n",
      "Epoch 3/12\n",
      "37500/37500 [==============================] - 94s 3ms/step - loss: 0.1786 - categorical_accuracy: 0.6125 - val_loss: 0.1838 - val_categorical_accuracy: 0.6442\n",
      "Epoch 4/12\n",
      "37500/37500 [==============================] - 96s 3ms/step - loss: 0.1630 - categorical_accuracy: 0.6535 - val_loss: 0.1722 - val_categorical_accuracy: 0.6722\n",
      "Epoch 5/12\n",
      "37500/37500 [==============================] - 95s 3ms/step - loss: 0.1513 - categorical_accuracy: 0.6826 - val_loss: 0.1639 - val_categorical_accuracy: 0.6893\n",
      "Epoch 6/12\n",
      "37500/37500 [==============================] - 96s 3ms/step - loss: 0.1420 - categorical_accuracy: 0.7063 - val_loss: 0.1591 - val_categorical_accuracy: 0.6970\n",
      "Epoch 7/12\n",
      "37500/37500 [==============================] - 95s 3ms/step - loss: 0.1329 - categorical_accuracy: 0.7296 - val_loss: 0.1493 - val_categorical_accuracy: 0.7003\n",
      "Epoch 8/12\n",
      "37500/37500 [==============================] - 94s 3ms/step - loss: 0.1236 - categorical_accuracy: 0.7521 - val_loss: 0.1471 - val_categorical_accuracy: 0.7194\n",
      "Epoch 9/12\n",
      "37500/37500 [==============================] - 96s 3ms/step - loss: 0.1143 - categorical_accuracy: 0.7778 - val_loss: 0.1407 - val_categorical_accuracy: 0.7317\n",
      "Epoch 10/12\n",
      "37500/37500 [==============================] - 97s 3ms/step - loss: 0.1060 - categorical_accuracy: 0.7978 - val_loss: 0.1362 - val_categorical_accuracy: 0.7314\n",
      "Epoch 11/12\n",
      "37500/37500 [==============================] - 98s 3ms/step - loss: 0.0975 - categorical_accuracy: 0.8171 - val_loss: 0.1362 - val_categorical_accuracy: 0.7321\n",
      "Epoch 12/12\n",
      "37500/37500 [==============================] - 97s 3ms/step - loss: 0.0919 - categorical_accuracy: 0.8302 - val_loss: 0.1298 - val_categorical_accuracy: 0.7514\n"
     ]
    }
   ],
   "source": [
    "# final layer use sigmoid\n",
    "model.compile(loss= 'binary_crossentropy', optimizer='adam', metrics=['categorical_accuracy'])\n",
    "train_history=model.fit(x_img_train_normalize, y_label_train_OneHot,\n",
    "                        validation_split=0.25,\n",
    "                        epochs=12, batch_size=128, verbose=1)"
   ]
  },
  {
   "cell_type": "code",
   "execution_count": 24,
   "metadata": {},
   "outputs": [
    {
     "name": "stdout",
     "output_type": "stream",
     "text": [
      "10000/10000 [==============================] - 6s 567us/step\n",
      "binary_crossentropy\n",
      "accuracy= 0.7452999949455261\n"
     ]
    }
   ],
   "source": [
    "scores = model.evaluate(x_img_test_normalize, y_label_test_OneHot)\n",
    "print(\"binary_crossentropy\")\n",
    "print('accuracy=',scores[1])\n",
    "model.save(\"SaveModel/binary_crossentropy.h5\")"
   ]
  },
  {
   "cell_type": "code",
   "execution_count": 25,
   "metadata": {},
   "outputs": [
    {
     "name": "stdout",
     "output_type": "stream",
     "text": [
      "0.7453\n"
     ]
    }
   ],
   "source": [
    "prediction = model.predict(x_img_test_normalize)\n",
    "tp = 0\n",
    "for i, pre in enumerate(prediction):\n",
    "    if np.argmax(y_label_test_OneHot[i]) == np.argmax(pre):\n",
    "        tp+=1\n",
    "print(tp/len(prediction))\n"
   ]
  },
  {
   "cell_type": "markdown",
   "metadata": {},
   "source": [
    "- binary_crossentropy要搭配sigmoid\n",
    "- categorical_crossentropy要搭配softmax\n",
    "- 多分類情況下，要採用metrics=['categorical_accuracy']"
   ]
  },
  {
   "cell_type": "code",
   "execution_count": null,
   "metadata": {},
   "outputs": [],
   "source": []
  }
 ],
 "metadata": {
  "colab": {
   "name": "Day71-使用損失函數_HW.ipynb",
   "provenance": [],
   "version": "0.3.2"
  },
  "kernelspec": {
   "display_name": "Python 3",
   "language": "python",
   "name": "python3"
  },
  "language_info": {
   "codemirror_mode": {
    "name": "ipython",
    "version": 3
   },
   "file_extension": ".py",
   "mimetype": "text/x-python",
   "name": "python",
   "nbconvert_exporter": "python",
   "pygments_lexer": "ipython3",
   "version": "3.7.3"
  }
 },
 "nbformat": 4,
 "nbformat_minor": 1
}
