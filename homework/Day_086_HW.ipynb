{
 "cells": [
  {
   "cell_type": "markdown",
   "metadata": {},
   "source": [
    "## Work\n",
    "1. 試比較 save_best_only 與否的差異\n",
    "2. 請僅存入將 save_weights_only 設定為 True, 並嘗試 reset ipynb 並將模型與權重重新建回並預測 x_test"
   ]
  },
  {
   "cell_type": "code",
   "execution_count": 1,
   "metadata": {},
   "outputs": [
    {
     "name": "stderr",
     "output_type": "stream",
     "text": [
      "Using TensorFlow backend.\n"
     ]
    }
   ],
   "source": [
    "import os\n",
    "import keras\n",
    "\n",
    "# Disable GPU\n",
    "os.environ[\"CUDA_VISIBLE_DEVICES\"] = \"\""
   ]
  },
  {
   "cell_type": "code",
   "execution_count": 2,
   "metadata": {},
   "outputs": [],
   "source": [
    "train, test = keras.datasets.cifar10.load_data()"
   ]
  },
  {
   "cell_type": "code",
   "execution_count": 3,
   "metadata": {},
   "outputs": [],
   "source": [
    "## 資料前處理\n",
    "def preproc_x(x, flatten=True):\n",
    "    x = x / 255.\n",
    "    if flatten:\n",
    "        x = x.reshape((len(x), -1))\n",
    "    return x\n",
    "\n",
    "def preproc_y(y, num_classes=10):\n",
    "    if y.shape[-1] == 1:\n",
    "        y = keras.utils.to_categorical(y, num_classes)\n",
    "    return y    "
   ]
  },
  {
   "cell_type": "code",
   "execution_count": 4,
   "metadata": {},
   "outputs": [],
   "source": [
    "x_train, y_train = train\n",
    "x_test, y_test = test\n",
    "\n",
    "# Preproc the inputs\n",
    "x_train = preproc_x(x_train)\n",
    "x_test = preproc_x(x_test)\n",
    "\n",
    "# Preprc the outputs\n",
    "y_train = preproc_y(y_train)\n",
    "y_test = preproc_y(y_test)"
   ]
  },
  {
   "cell_type": "code",
   "execution_count": 5,
   "metadata": {},
   "outputs": [],
   "source": [
    "from keras.layers import BatchNormalization\n",
    "\n",
    "\"\"\"\n",
    "建立神經網路，並加入 BN layer\n",
    "\"\"\"\n",
    "def build_mlp(input_shape, output_units=10, num_neurons=[512, 256, 128]):\n",
    "    input_layer = keras.layers.Input(input_shape)\n",
    "    \n",
    "    for i, n_units in enumerate(num_neurons):\n",
    "        if i == 0:\n",
    "            x = keras.layers.Dense(units=n_units, \n",
    "                                   activation=\"relu\", \n",
    "                                   name=\"hidden_layer\"+str(i+1))(input_layer)\n",
    "            x = BatchNormalization()(x)\n",
    "        else:\n",
    "            x = keras.layers.Dense(units=n_units, \n",
    "                                   activation=\"relu\", \n",
    "                                   name=\"hidden_layer\"+str(i+1))(x)\n",
    "            x = BatchNormalization()(x)\n",
    "    \n",
    "    out = keras.layers.Dense(units=output_units, activation=\"softmax\", name=\"output\")(x)\n",
    "    \n",
    "    model = keras.models.Model(inputs=[input_layer], outputs=[out])\n",
    "    return model"
   ]
  },
  {
   "cell_type": "code",
   "execution_count": 6,
   "metadata": {},
   "outputs": [],
   "source": [
    "\"\"\"Code Here\n",
    "設定超參數\n",
    "\"\"\"\n",
    "LEARNING_RATE = 1e-3\n",
    "EPOCHS = 50\n",
    "BATCH_SIZE = 1024\n",
    "MOMENTUM = 0.95"
   ]
  },
  {
   "cell_type": "code",
   "execution_count": 7,
   "metadata": {},
   "outputs": [
    {
     "name": "stdout",
     "output_type": "stream",
     "text": [
      "Model: \"model_1\"\n",
      "_________________________________________________________________\n",
      "Layer (type)                 Output Shape              Param #   \n",
      "=================================================================\n",
      "input_1 (InputLayer)         (None, 3072)              0         \n",
      "_________________________________________________________________\n",
      "hidden_layer1 (Dense)        (None, 512)               1573376   \n",
      "_________________________________________________________________\n",
      "batch_normalization_1 (Batch (None, 512)               2048      \n",
      "_________________________________________________________________\n",
      "hidden_layer2 (Dense)        (None, 256)               131328    \n",
      "_________________________________________________________________\n",
      "batch_normalization_2 (Batch (None, 256)               1024      \n",
      "_________________________________________________________________\n",
      "hidden_layer3 (Dense)        (None, 128)               32896     \n",
      "_________________________________________________________________\n",
      "batch_normalization_3 (Batch (None, 128)               512       \n",
      "_________________________________________________________________\n",
      "output (Dense)               (None, 10)                1290      \n",
      "=================================================================\n",
      "Total params: 1,742,474\n",
      "Trainable params: 1,740,682\n",
      "Non-trainable params: 1,792\n",
      "_________________________________________________________________\n",
      "Train on 50000 samples, validate on 10000 samples\n",
      "Epoch 1/50\n",
      "50000/50000 [==============================] - 5s 103us/step - loss: 2.2700 - accuracy: 0.2616 - val_loss: 2.0928 - val_accuracy: 0.2451\n",
      "Epoch 2/50\n",
      "50000/50000 [==============================] - 5s 98us/step - loss: 1.7565 - accuracy: 0.3901 - val_loss: 1.9756 - val_accuracy: 0.2887\n",
      "Epoch 3/50\n",
      "50000/50000 [==============================] - 6s 113us/step - loss: 1.6280 - accuracy: 0.4323 - val_loss: 1.8656 - val_accuracy: 0.3360\n",
      "Epoch 4/50\n",
      "50000/50000 [==============================] - 6s 120us/step - loss: 1.5506 - accuracy: 0.4594 - val_loss: 1.7647 - val_accuracy: 0.3763\n",
      "Epoch 5/50\n",
      "50000/50000 [==============================] - 6s 127us/step - loss: 1.4937 - accuracy: 0.4771 - val_loss: 1.6803 - val_accuracy: 0.4098\n",
      "Epoch 6/50\n",
      "50000/50000 [==============================] - 6s 116us/step - loss: 1.4477 - accuracy: 0.4941 - val_loss: 1.6147 - val_accuracy: 0.4334\n",
      "Epoch 7/50\n",
      "50000/50000 [==============================] - 6s 119us/step - loss: 1.4071 - accuracy: 0.5102 - val_loss: 1.5575 - val_accuracy: 0.4530\n",
      "Epoch 8/50\n",
      "50000/50000 [==============================] - 6s 116us/step - loss: 1.3702 - accuracy: 0.5228 - val_loss: 1.5533 - val_accuracy: 0.4494\n",
      "Epoch 9/50\n",
      "50000/50000 [==============================] - 6s 119us/step - loss: 1.3385 - accuracy: 0.5341 - val_loss: 1.5254 - val_accuracy: 0.4535\n",
      "Epoch 10/50\n",
      "50000/50000 [==============================] - 6s 120us/step - loss: 1.3083 - accuracy: 0.5459 - val_loss: 1.5055 - val_accuracy: 0.4650\n",
      "Epoch 11/50\n",
      "50000/50000 [==============================] - 6s 113us/step - loss: 1.2778 - accuracy: 0.5558 - val_loss: 1.4968 - val_accuracy: 0.4683\n",
      "Epoch 12/50\n",
      "50000/50000 [==============================] - 6s 115us/step - loss: 1.2518 - accuracy: 0.5665 - val_loss: 1.4875 - val_accuracy: 0.4700\n",
      "Epoch 13/50\n",
      "50000/50000 [==============================] - 6s 117us/step - loss: 1.2278 - accuracy: 0.5753 - val_loss: 1.4821 - val_accuracy: 0.4773\n",
      "Epoch 14/50\n",
      "50000/50000 [==============================] - 6s 123us/step - loss: 1.2007 - accuracy: 0.5854 - val_loss: 1.4841 - val_accuracy: 0.4769\n",
      "Epoch 15/50\n",
      "50000/50000 [==============================] - 6s 130us/step - loss: 1.1767 - accuracy: 0.5950 - val_loss: 1.4739 - val_accuracy: 0.4841\n",
      "Epoch 16/50\n",
      "50000/50000 [==============================] - 6s 123us/step - loss: 1.1530 - accuracy: 0.6030 - val_loss: 1.4698 - val_accuracy: 0.4813\n",
      "Epoch 17/50\n",
      "50000/50000 [==============================] - 6s 125us/step - loss: 1.1286 - accuracy: 0.6127 - val_loss: 1.4735 - val_accuracy: 0.4868\n",
      "Epoch 18/50\n",
      "50000/50000 [==============================] - 7s 136us/step - loss: 1.1077 - accuracy: 0.6218 - val_loss: 1.4650 - val_accuracy: 0.4899\n",
      "Epoch 19/50\n",
      "50000/50000 [==============================] - 7s 134us/step - loss: 1.0827 - accuracy: 0.6308 - val_loss: 1.4687 - val_accuracy: 0.4837\n",
      "Epoch 20/50\n",
      "50000/50000 [==============================] - 6s 129us/step - loss: 1.0596 - accuracy: 0.6393 - val_loss: 1.4630 - val_accuracy: 0.4890\n",
      "Epoch 21/50\n",
      "50000/50000 [==============================] - 7s 133us/step - loss: 1.0394 - accuracy: 0.6474 - val_loss: 1.4699 - val_accuracy: 0.4850\n",
      "Epoch 22/50\n",
      "50000/50000 [==============================] - 7s 137us/step - loss: 1.0174 - accuracy: 0.6559 - val_loss: 1.4556 - val_accuracy: 0.4915\n",
      "Epoch 23/50\n",
      "50000/50000 [==============================] - 7s 130us/step - loss: 0.9959 - accuracy: 0.6633 - val_loss: 1.4865 - val_accuracy: 0.4913\n",
      "Epoch 24/50\n",
      "50000/50000 [==============================] - 6s 130us/step - loss: 0.9747 - accuracy: 0.6723 - val_loss: 1.4565 - val_accuracy: 0.4990\n",
      "Epoch 25/50\n",
      "50000/50000 [==============================] - 7s 137us/step - loss: 0.9524 - accuracy: 0.6810 - val_loss: 1.4785 - val_accuracy: 0.4875\n",
      "Epoch 26/50\n",
      "50000/50000 [==============================] - 7s 141us/step - loss: 0.9312 - accuracy: 0.6889 - val_loss: 1.4664 - val_accuracy: 0.4950\n",
      "Epoch 27/50\n",
      "50000/50000 [==============================] - 7s 141us/step - loss: 0.9123 - accuracy: 0.6965 - val_loss: 1.4798 - val_accuracy: 0.4957\n",
      "Epoch 28/50\n",
      "50000/50000 [==============================] - 7s 136us/step - loss: 0.8925 - accuracy: 0.7052 - val_loss: 1.4857 - val_accuracy: 0.4955\n",
      "Epoch 29/50\n",
      "50000/50000 [==============================] - 7s 143us/step - loss: 0.8717 - accuracy: 0.7128 - val_loss: 1.4767 - val_accuracy: 0.5000\n",
      "Epoch 30/50\n",
      "50000/50000 [==============================] - 7s 147us/step - loss: 0.8506 - accuracy: 0.7200 - val_loss: 1.4918 - val_accuracy: 0.4968\n",
      "Epoch 31/50\n",
      "50000/50000 [==============================] - 8s 158us/step - loss: 0.8297 - accuracy: 0.7273 - val_loss: 1.5174 - val_accuracy: 0.4894\n",
      "Epoch 32/50\n",
      "50000/50000 [==============================] - 8s 151us/step - loss: 0.8117 - accuracy: 0.7353 - val_loss: 1.5044 - val_accuracy: 0.4966\n",
      "Epoch 33/50\n",
      "50000/50000 [==============================] - 7s 144us/step - loss: 0.7909 - accuracy: 0.7442 - val_loss: 1.5066 - val_accuracy: 0.4946\n",
      "Epoch 34/50\n",
      "50000/50000 [==============================] - 7s 142us/step - loss: 0.7717 - accuracy: 0.7523 - val_loss: 1.5282 - val_accuracy: 0.4927\n",
      "Epoch 35/50\n",
      "50000/50000 [==============================] - 7s 145us/step - loss: 0.7523 - accuracy: 0.7579 - val_loss: 1.5174 - val_accuracy: 0.4951\n",
      "Epoch 36/50\n",
      "50000/50000 [==============================] - 7s 146us/step - loss: 0.7336 - accuracy: 0.7656 - val_loss: 1.5394 - val_accuracy: 0.4949\n",
      "Epoch 37/50\n",
      "50000/50000 [==============================] - 7s 146us/step - loss: 0.7154 - accuracy: 0.7724 - val_loss: 1.5360 - val_accuracy: 0.4998\n",
      "Epoch 38/50\n",
      "50000/50000 [==============================] - 8s 158us/step - loss: 0.6950 - accuracy: 0.7817 - val_loss: 1.5479 - val_accuracy: 0.4966\n",
      "Epoch 39/50\n",
      "50000/50000 [==============================] - 8s 168us/step - loss: 0.6741 - accuracy: 0.7907 - val_loss: 1.5521 - val_accuracy: 0.4958\n",
      "Epoch 40/50\n",
      "50000/50000 [==============================] - 8s 167us/step - loss: 0.6578 - accuracy: 0.7995 - val_loss: 1.5530 - val_accuracy: 0.4993\n",
      "Epoch 41/50\n",
      "50000/50000 [==============================] - 8s 157us/step - loss: 0.6392 - accuracy: 0.8054 - val_loss: 1.5942 - val_accuracy: 0.4919\n",
      "Epoch 42/50\n",
      "50000/50000 [==============================] - 8s 153us/step - loss: 0.6215 - accuracy: 0.8116 - val_loss: 1.5899 - val_accuracy: 0.4972\n",
      "Epoch 43/50\n",
      "50000/50000 [==============================] - 8s 168us/step - loss: 0.6044 - accuracy: 0.8189 - val_loss: 1.6012 - val_accuracy: 0.4904\n",
      "Epoch 44/50\n",
      "50000/50000 [==============================] - 8s 167us/step - loss: 0.5849 - accuracy: 0.8249 - val_loss: 1.6143 - val_accuracy: 0.4926\n",
      "Epoch 45/50\n",
      "50000/50000 [==============================] - 8s 163us/step - loss: 0.5674 - accuracy: 0.8327 - val_loss: 1.6374 - val_accuracy: 0.4944\n",
      "Epoch 46/50\n",
      "50000/50000 [==============================] - 8s 162us/step - loss: 0.5504 - accuracy: 0.8392 - val_loss: 1.6484 - val_accuracy: 0.4854\n",
      "Epoch 47/50\n",
      "50000/50000 [==============================] - 7s 148us/step - loss: 0.5347 - accuracy: 0.8462 - val_loss: 1.6519 - val_accuracy: 0.4853\n",
      "Epoch 48/50\n",
      "50000/50000 [==============================] - 7s 149us/step - loss: 0.5167 - accuracy: 0.8536 - val_loss: 1.6596 - val_accuracy: 0.4927\n",
      "Epoch 49/50\n",
      "50000/50000 [==============================] - 7s 149us/step - loss: 0.5011 - accuracy: 0.8588 - val_loss: 1.6846 - val_accuracy: 0.4890\n",
      "Epoch 50/50\n",
      "50000/50000 [==============================] - 7s 150us/step - loss: 0.4840 - accuracy: 0.8657 - val_loss: 1.6743 - val_accuracy: 0.4952\n"
     ]
    }
   ],
   "source": [
    "# 載入 Callbacks\n",
    "\"\"\"Code Here\n",
    "設定 callbacks: model checkpoint\n",
    "\"\"\"\n",
    "# 試比較 save_best_only 與否的差異\n",
    "# 請僅存入將 save_weights_only 設定為 True, 並嘗試 reset ipynb 並將模型與權重重新建回並預測 x_test\n",
    "\n",
    "from keras.callbacks import ModelCheckpoint\n",
    "\n",
    "model_ckpt = ModelCheckpoint(filepath=\"SaveModel/tmp.h5\", \n",
    "                             monitor=\"val_loss\", \n",
    "                             save_best_only=True, \n",
    "                             save_weights_only=True)\n",
    "\n",
    "results = {}\n",
    "\"\"\"Code Here\n",
    "撰寫你的訓練流程並將結果用 dictionary 紀錄\n",
    "\"\"\"\n",
    "model = build_mlp(input_shape=x_train.shape[1:])\n",
    "model.summary()\n",
    "optimizer = keras.optimizers.SGD(lr=LEARNING_RATE, nesterov=True, momentum=MOMENTUM)\n",
    "model.compile(loss=\"categorical_crossentropy\", metrics=[\"accuracy\"], optimizer=optimizer)\n",
    "\n",
    "model.fit(x_train, y_train, \n",
    "          epochs=EPOCHS, \n",
    "          batch_size=BATCH_SIZE, \n",
    "          validation_data=(x_test, y_test), \n",
    "          shuffle=True,\n",
    "          callbacks=[model_ckpt]\n",
    "         )\n",
    "\n",
    "# Collect results\n",
    "train_loss = model.history.history[\"loss\"]\n",
    "valid_loss = model.history.history[\"val_loss\"]\n",
    "train_acc = model.history.history[\"accuracy\"]\n",
    "valid_acc = model.history.history[\"val_accuracy\"]\n",
    "\n",
    "results[\"model\"] = {'train-loss': train_loss,\n",
    "                     'valid-loss': valid_loss,\n",
    "                     'train-acc': train_acc,\n",
    "                     'valid-acc': valid_acc}"
   ]
  },
  {
   "cell_type": "code",
   "execution_count": 9,
   "metadata": {},
   "outputs": [
    {
     "name": "stdout",
     "output_type": "stream",
     "text": [
      "Model: \"model_3\"\n",
      "_________________________________________________________________\n",
      "Layer (type)                 Output Shape              Param #   \n",
      "=================================================================\n",
      "input_3 (InputLayer)         (None, 3072)              0         \n",
      "_________________________________________________________________\n",
      "hidden_layer1 (Dense)        (None, 512)               1573376   \n",
      "_________________________________________________________________\n",
      "batch_normalization_7 (Batch (None, 512)               2048      \n",
      "_________________________________________________________________\n",
      "hidden_layer2 (Dense)        (None, 256)               131328    \n",
      "_________________________________________________________________\n",
      "batch_normalization_8 (Batch (None, 256)               1024      \n",
      "_________________________________________________________________\n",
      "hidden_layer3 (Dense)        (None, 128)               32896     \n",
      "_________________________________________________________________\n",
      "batch_normalization_9 (Batch (None, 128)               512       \n",
      "_________________________________________________________________\n",
      "output (Dense)               (None, 10)                1290      \n",
      "=================================================================\n",
      "Total params: 1,742,474\n",
      "Trainable params: 1,740,682\n",
      "Non-trainable params: 1,792\n",
      "_________________________________________________________________\n",
      "10000/10000 [==============================] - 1s 83us/step\n",
      "1.4556066652297974 0.49149999022483826\n"
     ]
    }
   ],
   "source": [
    "# reload model\n",
    "reload_model = build_mlp(input_shape=x_train.shape[1:])\n",
    "reload_model.summary()\n",
    "optimizer = keras.optimizers.SGD(lr=LEARNING_RATE, nesterov=True, momentum=MOMENTUM)\n",
    "reload_model.compile(loss=\"categorical_crossentropy\", metrics=[\"accuracy\"], optimizer=optimizer)\n",
    "reload_model.load_weights(\"SaveModel/tmp.h5\")\n",
    "loss_loadback, acc_loadback = reload_model.evaluate(x_test, y_test)\n",
    "print(loss_loadback, acc_loadback)"
   ]
  },
  {
   "cell_type": "code",
   "execution_count": 10,
   "metadata": {
    "scrolled": true
   },
   "outputs": [
    {
     "data": {
      "image/png": "[encoded data removed]",
      "text/plain": [
       "<Figure size 432x288 with 1 Axes>"
      ]
     },
     "metadata": {
      "needs_background": "light"
     },
     "output_type": "display_data"
    },
    {
     "data": {
      "image/png": "[encoded data removed]",
      "text/plain": [
       "<Figure size 432x288 with 1 Axes>"
      ]
     },
     "metadata": {
      "needs_background": "light"
     },
     "output_type": "display_data"
    }
   ],
   "source": [
    "import matplotlib.pyplot as plt\n",
    "%matplotlib inline\n",
    "\n",
    "plt.plot(range(len(train_loss)), train_loss, label=\"train loss\")\n",
    "plt.plot(range(len(valid_loss)), valid_loss, label=\"valid loss\")\n",
    "plt.hlines(y=loss_loadback, xmin=0, xmax=len(train_loss), colors='r', linestyles='--')\n",
    "plt.legend()\n",
    "plt.title(\"Loss\")\n",
    "plt.show()\n",
    "\n",
    "plt.plot(range(len(train_acc)), train_acc, label=\"train accuracy\")\n",
    "plt.plot(range(len(valid_acc)), valid_acc, label=\"valid accuracy\")\n",
    "plt.hlines(y=acc_loadback, xmin=0, xmax=len(train_loss), colors='r', linestyles='--')\n",
    "plt.legend()\n",
    "plt.title(\"Accuracy\")\n",
    "plt.show()"
   ]
  },
  {
   "cell_type": "code",
   "execution_count": null,
   "metadata": {},
   "outputs": [],
   "source": []
  }
 ],
 "metadata": {
  "kernelspec": {
   "display_name": "Python 3",
   "language": "python",
   "name": "python3"
  },
  "language_info": {
   "codemirror_mode": {
    "name": "ipython",
    "version": 3
   },
   "file_extension": ".py",
   "mimetype": "text/x-python",
   "name": "python",
   "nbconvert_exporter": "python",
   "pygments_lexer": "ipython3",
   "version": "3.7.3"
  }
 },
 "nbformat": 4,
 "nbformat_minor": 2
}
