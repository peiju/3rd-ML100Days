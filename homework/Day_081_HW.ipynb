{
 "cells": [
  {
   "cell_type": "markdown",
   "metadata": {},
   "source": [
    "## Work\n",
    "1. 請比較使用 l1, l1_l2 及不同比例下的訓練結果"
   ]
  },
  {
   "cell_type": "code",
   "execution_count": 1,
   "metadata": {},
   "outputs": [
    {
     "name": "stderr",
     "output_type": "stream",
     "text": [
      "Using TensorFlow backend.\n"
     ]
    }
   ],
   "source": [
    "import os\n",
    "import keras\n",
    "\n",
    "# Disable GPU\n",
    "os.environ[\"CUDA_VISIBLE_DEVICES\"] = \"\""
   ]
  },
  {
   "cell_type": "code",
   "execution_count": 2,
   "metadata": {},
   "outputs": [],
   "source": [
    "train, test = keras.datasets.cifar10.load_data()"
   ]
  },
  {
   "cell_type": "code",
   "execution_count": 3,
   "metadata": {},
   "outputs": [],
   "source": [
    "## 資料前處理\n",
    "def preproc_x(x, flatten=True):\n",
    "    x = x / 255.\n",
    "    if flatten:\n",
    "        x = x.reshape((len(x), -1))\n",
    "    return x\n",
    "\n",
    "def preproc_y(y, num_classes=10):\n",
    "    if y.shape[-1] == 1:\n",
    "        y = keras.utils.to_categorical(y, num_classes)\n",
    "    return y    "
   ]
  },
  {
   "cell_type": "code",
   "execution_count": 4,
   "metadata": {},
   "outputs": [],
   "source": [
    "x_train, y_train = train\n",
    "x_test, y_test = test\n",
    "\n",
    "# Preproc the inputs\n",
    "x_train = preproc_x(x_train)\n",
    "x_test = preproc_x(x_test)\n",
    "\n",
    "# Preprc the outputs\n",
    "y_train = preproc_y(y_train)\n",
    "y_test = preproc_y(y_test)"
   ]
  },
  {
   "cell_type": "code",
   "execution_count": 5,
   "metadata": {},
   "outputs": [],
   "source": [
    "from keras.regularizers import l1_l2\n",
    "\n",
    "\"\"\"\n",
    "建立神經網路，並比較使用 l1_l2 及不同比例下的訓練結果\n",
    "\"\"\"\n",
    "def build_mlp(input_shape, output_units=10, num_neurons=[512, 256, 128], l1_ratio = 1e-4, l2_ratio=1e-4):\n",
    "    input_layer = keras.layers.Input(input_shape)\n",
    "    \n",
    "    for i, n_units in enumerate(num_neurons):\n",
    "        if i == 0:\n",
    "            x = keras.layers.Dense(units=n_units, \n",
    "                                   activation=\"relu\", \n",
    "                                   name=\"hidden_layer\"+str(i+1), \n",
    "                                   kernel_regularizer=l1_l2(l1=l1_ratio, l2=l2_ratio))(input_layer)\n",
    "        else:\n",
    "            x = keras.layers.Dense(units=n_units, \n",
    "                                   activation=\"relu\", \n",
    "                                   name=\"hidden_layer\"+str(i+1),\n",
    "                                   kernel_regularizer=l1_l2(l1=l1_ratio, l2=l2_ratio))(x)\n",
    "    \n",
    "    out = keras.layers.Dense(units=output_units, activation=\"softmax\", name=\"output\")(x)\n",
    "    \n",
    "    model = keras.models.Model(inputs=[input_layer], outputs=[out])\n",
    "    return model"
   ]
  },
  {
   "cell_type": "code",
   "execution_count": 6,
   "metadata": {},
   "outputs": [],
   "source": [
    "\"\"\"Code Here\n",
    "設定超參數\n",
    "\"\"\"\n",
    "LEARNING_RATE = 1e-3\n",
    "EPOCHS = 10\n",
    "BATCH_SIZE = 256\n",
    "MOMENTUM = 0.95\n",
    "L1_L2_EXP = [[1e-2, 1e-2], [1e-2, 1e-4], [1e-4, 1e-2], [1e-4, 1e-4]]"
   ]
  },
  {
   "cell_type": "code",
   "execution_count": 7,
   "metadata": {
    "scrolled": true
   },
   "outputs": [
    {
     "name": "stdout",
     "output_type": "stream",
     "text": [
      "Experiment with Regulizer = l1: 0.010000;l2: 0.010000\n",
      "Model: \"model_1\"\n",
      "_________________________________________________________________\n",
      "Layer (type)                 Output Shape              Param #   \n",
      "=================================================================\n",
      "input_1 (InputLayer)         (None, 3072)              0         \n",
      "_________________________________________________________________\n",
      "hidden_layer1 (Dense)        (None, 512)               1573376   \n",
      "_________________________________________________________________\n",
      "hidden_layer2 (Dense)        (None, 256)               131328    \n",
      "_________________________________________________________________\n",
      "hidden_layer3 (Dense)        (None, 128)               32896     \n",
      "_________________________________________________________________\n",
      "output (Dense)               (None, 10)                1290      \n",
      "=================================================================\n",
      "Total params: 1,738,890\n",
      "Trainable params: 1,738,890\n",
      "Non-trainable params: 0\n",
      "_________________________________________________________________\n",
      "Train on 50000 samples, validate on 10000 samples\n",
      "Epoch 1/10\n",
      "50000/50000 [==============================] - 8s 160us/step - loss: 197.7019 - accuracy: 0.2343 - val_loss: 35.8977 - val_accuracy: 0.2601\n",
      "Epoch 2/10\n",
      "50000/50000 [==============================] - 8s 154us/step - loss: 15.8778 - accuracy: 0.1110 - val_loss: 5.1222 - val_accuracy: 0.1000\n",
      "Epoch 3/10\n",
      "50000/50000 [==============================] - 8s 154us/step - loss: 3.2103 - accuracy: 0.0981 - val_loss: 2.4721 - val_accuracy: 0.1000\n",
      "Epoch 4/10\n",
      "50000/50000 [==============================] - 9s 174us/step - loss: 2.4632 - accuracy: 0.0981 - val_loss: 2.4622 - val_accuracy: 0.1000\n",
      "Epoch 5/10\n",
      "50000/50000 [==============================] - 9s 175us/step - loss: 2.4624 - accuracy: 0.0973 - val_loss: 2.4622 - val_accuracy: 0.1000\n",
      "Epoch 6/10\n",
      "50000/50000 [==============================] - 9s 176us/step - loss: 2.4624 - accuracy: 0.0987 - val_loss: 2.4621 - val_accuracy: 0.1000\n",
      "Epoch 7/10\n",
      "50000/50000 [==============================] - 9s 176us/step - loss: 2.4623 - accuracy: 0.0970 - val_loss: 2.4622 - val_accuracy: 0.1000\n",
      "Epoch 8/10\n",
      "50000/50000 [==============================] - 9s 176us/step - loss: 2.4623 - accuracy: 0.0968 - val_loss: 2.4622 - val_accuracy: 0.1000\n",
      "Epoch 9/10\n",
      "50000/50000 [==============================] - 9s 177us/step - loss: 2.4623 - accuracy: 0.0985 - val_loss: 2.4621 - val_accuracy: 0.1000\n",
      "Epoch 10/10\n",
      "50000/50000 [==============================] - 9s 179us/step - loss: 2.4622 - accuracy: 0.0973 - val_loss: 2.4621 - val_accuracy: 0.1000\n",
      "Experiment with Regulizer = l1: 0.010000;l2: 0.000100\n",
      "Model: \"model_1\"\n",
      "_________________________________________________________________\n",
      "Layer (type)                 Output Shape              Param #   \n",
      "=================================================================\n",
      "input_1 (InputLayer)         (None, 3072)              0         \n",
      "_________________________________________________________________\n",
      "hidden_layer1 (Dense)        (None, 512)               1573376   \n",
      "_________________________________________________________________\n",
      "hidden_layer2 (Dense)        (None, 256)               131328    \n",
      "_________________________________________________________________\n",
      "hidden_layer3 (Dense)        (None, 128)               32896     \n",
      "_________________________________________________________________\n",
      "output (Dense)               (None, 10)                1290      \n",
      "=================================================================\n",
      "Total params: 1,738,890\n",
      "Trainable params: 1,738,890\n",
      "Non-trainable params: 0\n",
      "_________________________________________________________________\n",
      "Train on 50000 samples, validate on 10000 samples\n",
      "Epoch 1/10\n",
      "50000/50000 [==============================] - 9s 189us/step - loss: 198.6164 - accuracy: 0.2301 - val_loss: 41.0628 - val_accuracy: 0.2757\n",
      "Epoch 2/10\n",
      "50000/50000 [==============================] - 9s 187us/step - loss: 19.0983 - accuracy: 0.1159 - val_loss: 7.2898 - val_accuracy: 0.100060 - accu\n",
      "Epoch 3/10\n",
      "50000/50000 [==============================] - 9s 188us/step - loss: 4.1195 - accuracy: 0.0991 - val_loss: 2.6493 - val_accuracy: 0.1000\n",
      "Epoch 4/10\n",
      "50000/50000 [==============================] - 10s 190us/step - loss: 2.4862 - accuracy: 0.0983 - val_loss: 2.4626 - val_accuracy: 0.1000\n",
      "Epoch 5/10\n",
      "50000/50000 [==============================] - 10s 193us/step - loss: 2.4626 - accuracy: 0.0996 - val_loss: 2.4628 - val_accuracy: 0.1000\n",
      "Epoch 6/10\n",
      "50000/50000 [==============================] - 10s 196us/step - loss: 2.4626 - accuracy: 0.0987 - val_loss: 2.4627 - val_accuracy: 0.1000\n",
      "Epoch 7/10\n",
      "50000/50000 [==============================] - 10s 198us/step - loss: 2.4626 - accuracy: 0.0969 - val_loss: 2.4625 - val_accuracy: 0.1000\n",
      "Epoch 8/10\n",
      "50000/50000 [==============================] - 10s 197us/step - loss: 2.4626 - accuracy: 0.0969 - val_loss: 2.4626 - val_accuracy: 0.1000\n",
      "Epoch 9/10\n",
      "50000/50000 [==============================] - 10s 199us/step - loss: 2.4626 - accuracy: 0.0957 - val_loss: 2.4627 - val_accuracy: 0.1000\n",
      "Epoch 10/10\n",
      "50000/50000 [==============================] - 10s 202us/step - loss: 2.4626 - accuracy: 0.0964 - val_loss: 2.4626 - val_accuracy: 0.1000\n",
      "Experiment with Regulizer = l1: 0.000100;l2: 0.010000\n",
      "Model: \"model_1\"\n",
      "_________________________________________________________________\n",
      "Layer (type)                 Output Shape              Param #   \n",
      "=================================================================\n",
      "input_1 (InputLayer)         (None, 3072)              0         \n",
      "_________________________________________________________________\n",
      "hidden_layer1 (Dense)        (None, 512)               1573376   \n",
      "_________________________________________________________________\n",
      "hidden_layer2 (Dense)        (None, 256)               131328    \n",
      "_________________________________________________________________\n",
      "hidden_layer3 (Dense)        (None, 128)               32896     \n",
      "_________________________________________________________________\n",
      "output (Dense)               (None, 10)                1290      \n",
      "=================================================================\n",
      "Total params: 1,738,890\n",
      "Trainable params: 1,738,890\n",
      "Non-trainable params: 0\n",
      "_________________________________________________________________\n",
      "Train on 50000 samples, validate on 10000 samples\n",
      "Epoch 1/10\n",
      "50000/50000 [==============================] - 11s 211us/step - loss: 18.8295 - accuracy: 0.2738 - val_loss: 17.3777 - val_accuracy: 0.3369\n",
      "Epoch 2/10\n",
      "50000/50000 [==============================] - 10s 208us/step - loss: 16.1627 - accuracy: 0.3571 - val_loss: 15.0072 - val_accuracy: 0.3584\n",
      "Epoch 3/10\n",
      "50000/50000 [==============================] - 11s 211us/step - loss: 13.9784 - accuracy: 0.3784 - val_loss: 12.9977 - val_accuracy: 0.3793\n",
      "Epoch 4/10\n",
      "50000/50000 [==============================] - 11s 214us/step - loss: 12.1285 - accuracy: 0.3924 - val_loss: 11.2915 - val_accuracy: 0.3986\n",
      "Epoch 5/10\n",
      "50000/50000 [==============================] - 11s 228us/step - loss: 10.5553 - accuracy: 0.3996 - val_loss: 9.8485 - val_accuracy: 0.4004\n",
      "Epoch 6/10\n",
      "50000/50000 [==============================] - 11s 228us/step - loss: 9.2154 - accuracy: 0.4059 - val_loss: 8.6114 - val_accuracy: 0.4129\n",
      "Epoch 7/10\n",
      "50000/50000 [==============================] - 11s 226us/step - loss: 8.0748 - accuracy: 0.4134 - val_loss: 7.5587 - val_accuracy: 0.4156\n",
      "Epoch 8/10\n",
      "50000/50000 [==============================] - 12s 232us/step - loss: 7.1033 - accuracy: 0.4179 - val_loss: 6.6636 - val_accuracy: 0.4184\n",
      "Epoch 9/10\n",
      "50000/50000 [==============================] - 12s 239us/step - loss: 6.2755 - accuracy: 0.4202 - val_loss: 5.9145 - val_accuracy: 0.4229\n",
      "Epoch 10/10\n",
      "50000/50000 [==============================] - 12s 242us/step - loss: 5.5699 - accuracy: 0.4250 - val_loss: 5.2753 - val_accuracy: 0.4202\n",
      "Experiment with Regulizer = l1: 0.000100;l2: 0.000100\n",
      "Model: \"model_1\"\n",
      "_________________________________________________________________\n",
      "Layer (type)                 Output Shape              Param #   \n",
      "=================================================================\n",
      "input_1 (InputLayer)         (None, 3072)              0         \n",
      "_________________________________________________________________\n",
      "hidden_layer1 (Dense)        (None, 512)               1573376   \n",
      "_________________________________________________________________\n",
      "hidden_layer2 (Dense)        (None, 256)               131328    \n",
      "_________________________________________________________________\n",
      "hidden_layer3 (Dense)        (None, 128)               32896     \n",
      "_________________________________________________________________\n",
      "output (Dense)               (None, 10)                1290      \n",
      "=================================================================\n",
      "Total params: 1,738,890\n",
      "Trainable params: 1,738,890\n",
      "Non-trainable params: 0\n",
      "_________________________________________________________________\n"
     ]
    },
    {
     "name": "stdout",
     "output_type": "stream",
     "text": [
      "Train on 50000 samples, validate on 10000 samples\n",
      "Epoch 1/10\n",
      "50000/50000 [==============================] - 12s 235us/step - loss: 6.1318 - accuracy: 0.2822 - val_loss: 5.9251 - val_accuracy: 0.3529\n",
      "Epoch 2/10\n",
      "50000/50000 [==============================] - 11s 229us/step - loss: 5.8363 - accuracy: 0.3686 - val_loss: 5.7554 - val_accuracy: 0.3878\n",
      "Epoch 3/10\n",
      "50000/50000 [==============================] - 12s 234us/step - loss: 5.6834 - accuracy: 0.3984 - val_loss: 5.6391 - val_accuracy: 0.4024\n",
      "Epoch 4/10\n",
      "50000/50000 [==============================] - 12s 246us/step - loss: 5.5580 - accuracy: 0.4191 - val_loss: 5.5196 - val_accuracy: 0.4133\n",
      "Epoch 5/10\n",
      "50000/50000 [==============================] - 12s 248us/step - loss: 5.4467 - accuracy: 0.4349 - val_loss: 5.4019 - val_accuracy: 0.4357\n",
      "Epoch 6/10\n",
      "50000/50000 [==============================] - 13s 252us/step - loss: 5.3393 - accuracy: 0.4468 - val_loss: 5.3070 - val_accuracy: 0.4414\n",
      "Epoch 7/10\n",
      "50000/50000 [==============================] - 13s 254us/step - loss: 5.2410 - accuracy: 0.4575 - val_loss: 5.2214 - val_accuracy: 0.4474\n",
      "Epoch 8/10\n",
      "50000/50000 [==============================] - 13s 252us/step - loss: 5.1473 - accuracy: 0.4692 - val_loss: 5.1256 - val_accuracy: 0.4586\n",
      "Epoch 9/10\n",
      "50000/50000 [==============================] - 13s 252us/step - loss: 5.0561 - accuracy: 0.4781 - val_loss: 5.0562 - val_accuracy: 0.4626\n",
      "Epoch 10/10\n",
      "50000/50000 [==============================] - 13s 258us/step - loss: 4.9671 - accuracy: 0.4855 - val_loss: 4.9760 - val_accuracy: 0.4608\n"
     ]
    }
   ],
   "source": [
    "results = {}\n",
    "\n",
    "\"\"\"Code Here\n",
    "撰寫你的訓練流程並將結果用 dictionary 紀錄\n",
    "\"\"\"\n",
    "for l1_ratio, l2_ratio in L1_L2_EXP:\n",
    "    keras.backend.clear_session() # 把舊的 Graph 清掉\n",
    "    print(\"Experiment with Regulizer = l1: %.6f;l2: %.6f\" % (l1_ratio, l2_ratio))\n",
    "    model = build_mlp(input_shape=x_train.shape[1:], l1_ratio=l1_ratio, l2_ratio=l2_ratio)\n",
    "    model.summary()\n",
    "    optimizer = keras.optimizers.SGD(lr=LEARNING_RATE, nesterov=True, momentum=MOMENTUM)\n",
    "    model.compile(loss=\"categorical_crossentropy\", metrics=[\"accuracy\"], optimizer=optimizer)\n",
    "\n",
    "    model.fit(x_train, y_train, \n",
    "              epochs=EPOCHS, \n",
    "              batch_size=BATCH_SIZE, \n",
    "              validation_data=(x_test, y_test), \n",
    "              shuffle=True)\n",
    "    \n",
    "    # Collect results\n",
    "    train_loss = model.history.history[\"loss\"]\n",
    "    valid_loss = model.history.history[\"val_loss\"]\n",
    "    train_acc = model.history.history[\"accuracy\"]\n",
    "    valid_acc = model.history.history[\"val_accuracy\"]\n",
    "    \n",
    "    exp_name_tag = \"exp-l1-%s;l2-%s\" % (str(l1_ratio), str(l2_ratio))\n",
    "    results[exp_name_tag] = {'train-loss': train_loss,\n",
    "                             'valid-loss': valid_loss,\n",
    "                             'train-acc': train_acc,\n",
    "                             'valid-acc': valid_acc}\n"
   ]
  },
  {
   "cell_type": "code",
   "execution_count": 8,
   "metadata": {},
   "outputs": [
    {
     "data": {
      "image/png": "[encoded data removed]",
      "text/plain": [
       "<Figure size 576x432 with 1 Axes>"
      ]
     },
     "metadata": {
      "needs_background": "light"
     },
     "output_type": "display_data"
    },
    {
     "data": {
      "image/png": "[encoded data removed]",
      "text/plain": [
       "<Figure size 576x432 with 1 Axes>"
      ]
     },
     "metadata": {
      "needs_background": "light"
     },
     "output_type": "display_data"
    }
   ],
   "source": [
    "import matplotlib.pyplot as plt\n",
    "%matplotlib inline\n",
    "\"\"\"Code Here\n",
    "將結果繪出\n",
    "\"\"\"\n",
    "\n",
    "color_bar = [\"r\", \"g\", \"b\", \"y\"]\n",
    "\n",
    "plt.figure(figsize=(8,6))\n",
    "for i, cond in enumerate(results.keys()):\n",
    "    plt.plot(range(len(results[cond]['train-loss'])),results[cond]['train-loss'], '-', label=cond, color=color_bar[i])\n",
    "    plt.plot(range(len(results[cond]['valid-loss'])),results[cond]['valid-loss'], '--', label=cond, color=color_bar[i])\n",
    "plt.title(\"Loss\")\n",
    "plt.ylim([0, 5])\n",
    "plt.legend()\n",
    "plt.show()\n",
    "\n",
    "plt.figure(figsize=(8,6))\n",
    "for i, cond in enumerate(results.keys()):\n",
    "    plt.plot(range(len(results[cond]['train-acc'])),results[cond]['train-acc'], '-', label=cond, color=color_bar[i])\n",
    "    plt.plot(range(len(results[cond]['valid-acc'])),results[cond]['valid-acc'], '--', label=cond, color=color_bar[i])\n",
    "plt.title(\"Accuracy\")\n",
    "plt.legend()\n",
    "plt.show()"
   ]
  },
  {
   "cell_type": "code",
   "execution_count": null,
   "metadata": {},
   "outputs": [],
   "source": []
  }
 ],
 "metadata": {
  "kernelspec": {
   "display_name": "Python 3",
   "language": "python",
   "name": "python3"
  },
  "language_info": {
   "codemirror_mode": {
    "name": "ipython",
    "version": 3
   },
   "file_extension": ".py",
   "mimetype": "text/x-python",
   "name": "python",
   "nbconvert_exporter": "python",
   "pygments_lexer": "ipython3",
   "version": "3.7.3"
  }
 },
 "nbformat": 4,
 "nbformat_minor": 2
}
