{
 "cells": [
  {
   "cell_type": "markdown",
   "metadata": {},
   "source": [
    "## [作業重點]\n",
    "目前你應該已經要很清楚資料集中，資料的型態是什麼樣子囉！包含特徵 (features) 與標籤 (labels)。因此要記得未來不管什麼專案，必須要把資料清理成相同的格式，才能送進模型訓練。\n",
    "今天的作業開始踏入決策樹這個非常重要的模型，請務必確保你理解模型中每個超參數的意思，並試著調整看看，對最終預測結果的影響為何"
   ]
  },
  {
   "cell_type": "markdown",
   "metadata": {},
   "source": [
    "## 作業\n",
    "\n",
    "1. 試著調整 DecisionTreeClassifier(...) 中的參數，並觀察是否會改變結果？\n",
    "2. 改用其他資料集 (boston, wine)，並與回歸模型的結果進行比較"
   ]
  },
  {
   "cell_type": "code",
   "execution_count": 1,
   "metadata": {},
   "outputs": [],
   "source": [
    "from sklearn import datasets, metrics\n",
    "\n",
    "# 如果是分類問題，請使用 DecisionTreeClassifier，若為回歸問題，請使用 DecisionTreeRegressor\n",
    "from sklearn.tree import DecisionTreeClassifier, DecisionTreeRegressor\n",
    "from sklearn.model_selection import train_test_split"
   ]
  },
  {
   "cell_type": "code",
   "execution_count": 2,
   "metadata": {},
   "outputs": [],
   "source": [
    "# 讀取鳶尾花資料集\n",
    "iris = datasets.load_iris()\n",
    "\n",
    "# 切分訓練集/測試集\n",
    "x_train, x_test, y_train, y_test = train_test_split(iris.data, iris.target, test_size=0.25, random_state=4)\n",
    "\n",
    "# 建立模型\n",
    "clf = DecisionTreeClassifier(criterion=\"entropy\")\n",
    "\n",
    "# 訓練模型\n",
    "clf.fit(x_train, y_train)\n",
    "\n",
    "# 預測測試集\n",
    "y_pred = clf.predict(x_test)"
   ]
  },
  {
   "cell_type": "code",
   "execution_count": 3,
   "metadata": {},
   "outputs": [
    {
     "name": "stdout",
     "output_type": "stream",
     "text": [
      "Acuuracy:  0.9736842105263158\n",
      "[Feature importance]\n",
      "sepal length (cm) 0.0\n",
      "sepal width (cm) 0.01560620187870998\n",
      "petal length (cm) 0.07501716294579418\n",
      "petal width (cm) 0.9093766351754958\n"
     ]
    }
   ],
   "source": [
    "acc = metrics.accuracy_score(y_test, y_pred)\n",
    "print(\"Acuuracy: \", acc)\n",
    "print(\"[Feature importance]\", )\n",
    "for name, important in zip(iris.feature_names, clf.feature_importances_):\n",
    "    print(name, important)"
   ]
  },
  {
   "cell_type": "code",
   "execution_count": 4,
   "metadata": {},
   "outputs": [],
   "source": [
    "# boston: regression\n",
    "boston = datasets.load_boston()\n",
    "x_train, x_test, y_train, y_test = train_test_split(boston.data, boston.target, test_size=0.1, random_state=4)\n",
    "\n",
    "# 建立模型\n",
    "clf = DecisionTreeRegressor()\n",
    "\n",
    "# 訓練模型\n",
    "clf.fit(x_train, y_train)\n",
    "\n",
    "# 預測測試集\n",
    "y_pred = clf.predict(x_test)"
   ]
  },
  {
   "cell_type": "code",
   "execution_count": 5,
   "metadata": {},
   "outputs": [
    {
     "name": "stdout",
     "output_type": "stream",
     "text": [
      "r2 score: 0.72\n",
      "[Feature importance]\n",
      "CRIM 0.0686047029519018\n",
      "ZN 0.0014623228890225579\n",
      "INDUS 0.010029153476023215\n",
      "CHAS 0.0009508267012141993\n",
      "NOX 0.015994616806144387\n",
      "RM 0.5621869736687402\n",
      "AGE 0.008544216749902557\n",
      "DIS 0.07745691854249057\n",
      "RAD 0.0016625674996536264\n",
      "TAX 0.009959704834785662\n",
      "PTRATIO 0.024906329304118124\n",
      "B 0.008025546269865298\n",
      "LSTAT 0.210216120306138\n"
     ]
    }
   ],
   "source": [
    "print(\"r2 score: %.2f\"\n",
    "      % metrics.r2_score(y_test, y_pred))\n",
    "print(\"[Feature importance]\", )\n",
    "for name, important in zip(boston.feature_names, clf.feature_importances_):\n",
    "    print(name, important)"
   ]
  },
  {
   "cell_type": "code",
   "execution_count": 8,
   "metadata": {},
   "outputs": [
    {
     "name": "stdout",
     "output_type": "stream",
     "text": [
      "r2 score: 0.79\n",
      "[Coefficients]\n",
      "CRIM -0.12585665878406954\n",
      "ZN 0.0484257396100201\n",
      "INDUS 0.01840852809252633\n",
      "CHAS 3.085095691516899\n",
      "NOX -17.327701820564606\n",
      "RM 3.6167471330861467\n",
      "AGE 0.0021918185271774765\n",
      "DIS -1.4936113225001264\n",
      "RAD 0.3199792000272681\n",
      "TAX -0.01272946486141267\n",
      "PTRATIO -0.927469085924641\n",
      "B 0.009509124683760478\n",
      "LSTAT -0.5335924706228666\n"
     ]
    }
   ],
   "source": [
    "from sklearn import datasets, linear_model\n",
    "\n",
    "regr = linear_model.LinearRegression()\n",
    "regr.fit(x_train, y_train)\n",
    "y_pred = regr.predict(x_test)\n",
    "\n",
    "print(\"r2 score: %.2f\"\n",
    "      % metrics.r2_score(y_test, y_pred))\n",
    "\n",
    "print(\"[Coefficients]\", )\n",
    "for name, important in zip(boston.feature_names, regr.coef_):\n",
    "    print(name, important)"
   ]
  }
 ],
 "metadata": {
  "kernelspec": {
   "display_name": "Python 3",
   "language": "python",
   "name": "python3"
  },
  "language_info": {
   "codemirror_mode": {
    "name": "ipython",
    "version": 3
   },
   "file_extension": ".py",
   "mimetype": "text/x-python",
   "name": "python",
   "nbconvert_exporter": "python",
   "pygments_lexer": "ipython3",
   "version": "3.7.3"
  }
 },
 "nbformat": 4,
 "nbformat_minor": 2
}
