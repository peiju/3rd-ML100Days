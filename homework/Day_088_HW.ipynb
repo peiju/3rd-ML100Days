{
 "cells": [
  {
   "cell_type": "markdown",
   "metadata": {},
   "source": [
    "## Work\n",
    "1. 請嘗試寫一個 callback 用來記錄各類別在訓練過程中，對驗證集的 True Positive 與 True Negative"
   ]
  },
  {
   "cell_type": "code",
   "execution_count": 1,
   "metadata": {},
   "outputs": [
    {
     "name": "stderr",
     "output_type": "stream",
     "text": [
      "Using TensorFlow backend.\n"
     ]
    }
   ],
   "source": [
    "import os\n",
    "import keras\n",
    "\n",
    "# Disable GPU\n",
    "os.environ[\"CUDA_VISIBLE_DEVICES\"] = \"\""
   ]
  },
  {
   "cell_type": "code",
   "execution_count": 2,
   "metadata": {},
   "outputs": [],
   "source": [
    "train, test = keras.datasets.cifar10.load_data()"
   ]
  },
  {
   "cell_type": "code",
   "execution_count": 3,
   "metadata": {},
   "outputs": [],
   "source": [
    "## 資料前處理\n",
    "def preproc_x(x, flatten=True):\n",
    "    x = x / 255.\n",
    "    if flatten:\n",
    "        x = x.reshape((len(x), -1))\n",
    "    return x\n",
    "\n",
    "def preproc_y(y, num_classes=10):\n",
    "    if y.shape[-1] == 1:\n",
    "        y = keras.utils.to_categorical(y, num_classes)\n",
    "    return y    "
   ]
  },
  {
   "cell_type": "code",
   "execution_count": 4,
   "metadata": {},
   "outputs": [],
   "source": [
    "x_train, y_train = train\n",
    "x_test, y_test = test\n",
    "\n",
    "# Preproc the inputs\n",
    "x_train = preproc_x(x_train)\n",
    "x_test = preproc_x(x_test)\n",
    "\n",
    "# Preprc the outputs\n",
    "y_train = preproc_y(y_train)\n",
    "y_test = preproc_y(y_test)"
   ]
  },
  {
   "cell_type": "code",
   "execution_count": 5,
   "metadata": {},
   "outputs": [],
   "source": [
    "from keras.layers import BatchNormalization\n",
    "\n",
    "\"\"\"\n",
    "建立神經網路，並加入 BN layer\n",
    "\"\"\"\n",
    "def build_mlp(input_shape, output_units=10, num_neurons=[512, 256, 128]):\n",
    "    input_layer = keras.layers.Input(input_shape)\n",
    "    \n",
    "    for i, n_units in enumerate(num_neurons):\n",
    "        if i == 0:\n",
    "            x = keras.layers.Dense(units=n_units, \n",
    "                                   activation=\"relu\", \n",
    "                                   name=\"hidden_layer\"+str(i+1))(input_layer)\n",
    "            x = BatchNormalization()(x)\n",
    "        else:\n",
    "            x = keras.layers.Dense(units=n_units, \n",
    "                                   activation=\"relu\", \n",
    "                                   name=\"hidden_layer\"+str(i+1))(x)\n",
    "            x = BatchNormalization()(x)\n",
    "    \n",
    "    out = keras.layers.Dense(units=output_units, activation=\"softmax\", name=\"output\")(x)\n",
    "    \n",
    "    model = keras.models.Model(inputs=[input_layer], outputs=[out])\n",
    "    return model"
   ]
  },
  {
   "cell_type": "code",
   "execution_count": 6,
   "metadata": {},
   "outputs": [],
   "source": [
    "## 超參數設定\n",
    "LEARNING_RATE = 1e-3\n",
    "EPOCHS = 25\n",
    "BATCH_SIZE = 1024\n",
    "MOMENTUM = 0.95"
   ]
  },
  {
   "cell_type": "code",
   "execution_count": 32,
   "metadata": {},
   "outputs": [],
   "source": [
    "# 載入 Callbacks\n",
    "# 請嘗試寫一個 callback 用來記錄各類別在訓練過程中，對驗證集的 True Positive 與 True Negative\n",
    "from keras.callbacks import Callback\n",
    "from sklearn.metrics import confusion_matrix\n",
    "\n",
    "# Record_fp_tp\n",
    "class Record_tp_tn(Callback):\n",
    "    \"\"\"Code Here\n",
    "    撰寫一個紀錄 ture positive 與 true negative 數量的 callbacks    \n",
    "    \"\"\"\n",
    "    def on_train_begin(self, epoch, logs = {}):\n",
    "        logs = logs or {}\n",
    "        record_items = [\"val_tp\", \"val_tn\"]\n",
    "        for i in record_items:\n",
    "            if i not in self.params['metrics']:\n",
    "                self.params['metrics'].append(i)\n",
    "    \n",
    "    def on_epoch_end(self, epoch, logs = {}):\n",
    "        logs = logs or {}\n",
    "        y_true = self.validation_data[1].argmax(axis = 1)\n",
    "        y_pred = self.model.predict(self.validation_data[0])\n",
    "        # 只計算Label 1的 tp 和 tn\n",
    "        y_pred = (y_pred[:, 1] >= 0.5) * 1\n",
    "        \n",
    "        val_tp = sum(y_true*y_pred)\n",
    "        val_tn = sum((y_true==0) & (y_pred==0))\n",
    "        \n",
    "        logs[\"val_tp\"] = val_tp\n",
    "        logs[\"val_tn\"] = val_tn\n",
    "        \n",
    "rec_tptn = Record_tp_tn()"
   ]
  },
  {
   "cell_type": "code",
   "execution_count": 33,
   "metadata": {
    "scrolled": true
   },
   "outputs": [
    {
     "name": "stdout",
     "output_type": "stream",
     "text": [
      "Model: \"model_13\"\n",
      "_________________________________________________________________\n",
      "Layer (type)                 Output Shape              Param #   \n",
      "=================================================================\n",
      "input_13 (InputLayer)        (None, 3072)              0         \n",
      "_________________________________________________________________\n",
      "hidden_layer1 (Dense)        (None, 512)               1573376   \n",
      "_________________________________________________________________\n",
      "batch_normalization_37 (Batc (None, 512)               2048      \n",
      "_________________________________________________________________\n",
      "hidden_layer2 (Dense)        (None, 256)               131328    \n",
      "_________________________________________________________________\n",
      "batch_normalization_38 (Batc (None, 256)               1024      \n",
      "_________________________________________________________________\n",
      "hidden_layer3 (Dense)        (None, 128)               32896     \n",
      "_________________________________________________________________\n",
      "batch_normalization_39 (Batc (None, 128)               512       \n",
      "_________________________________________________________________\n",
      "output (Dense)               (None, 10)                1290      \n",
      "=================================================================\n",
      "Total params: 1,742,474\n",
      "Trainable params: 1,740,682\n",
      "Non-trainable params: 1,792\n",
      "_________________________________________________________________\n",
      "Train on 50000 samples, validate on 10000 samples\n",
      "Epoch 1/25\n",
      "50000/50000 [==============================] - 5s 109us/step - loss: 2.1784 - accuracy: 0.2807 - val_loss: 2.1398 - val_accuracy: 0.2028\n",
      "Epoch 2/25\n",
      "50000/50000 [==============================] - 5s 102us/step - loss: 1.7408 - accuracy: 0.3931 - val_loss: 1.9793 - val_accuracy: 0.2912\n",
      "Epoch 3/25\n",
      "50000/50000 [==============================] - 5s 101us/step - loss: 1.6105 - accuracy: 0.4363 - val_loss: 1.8398 - val_accuracy: 0.3401\n",
      "Epoch 4/25\n",
      "50000/50000 [==============================] - 5s 108us/step - loss: 1.5376 - accuracy: 0.4613 - val_loss: 1.7235 - val_accuracy: 0.4019\n",
      "Epoch 5/25\n",
      "50000/50000 [==============================] - 6s 120us/step - loss: 1.4814 - accuracy: 0.4840 - val_loss: 1.6347 - val_accuracy: 0.4274\n",
      "Epoch 6/25\n",
      "50000/50000 [==============================] - 6s 115us/step - loss: 1.4347 - accuracy: 0.4995 - val_loss: 1.5788 - val_accuracy: 0.4459\n",
      "Epoch 7/25\n",
      "50000/50000 [==============================] - 6s 115us/step - loss: 1.3969 - accuracy: 0.5148 - val_loss: 1.5493 - val_accuracy: 0.4553\n",
      "Epoch 8/25\n",
      "50000/50000 [==============================] - 6s 116us/step - loss: 1.3611 - accuracy: 0.5267 - val_loss: 1.5158 - val_accuracy: 0.4611\n",
      "Epoch 9/25\n",
      "50000/50000 [==============================] - 6s 117us/step - loss: 1.3288 - accuracy: 0.5388 - val_loss: 1.5121 - val_accuracy: 0.4670\n",
      "Epoch 10/25\n",
      "50000/50000 [==============================] - 6s 117us/step - loss: 1.2988 - accuracy: 0.5495 - val_loss: 1.4932 - val_accuracy: 0.4732\n",
      "Epoch 11/25\n",
      "50000/50000 [==============================] - 6s 118us/step - loss: 1.2717 - accuracy: 0.5607 - val_loss: 1.4784 - val_accuracy: 0.4783\n",
      "Epoch 12/25\n",
      "50000/50000 [==============================] - 6s 119us/step - loss: 1.2454 - accuracy: 0.5698 - val_loss: 1.4687 - val_accuracy: 0.4812\n",
      "Epoch 13/25\n",
      "50000/50000 [==============================] - 6s 119us/step - loss: 1.2207 - accuracy: 0.5788 - val_loss: 1.4681 - val_accuracy: 0.4774\n",
      "Epoch 14/25\n",
      "50000/50000 [==============================] - 6s 120us/step - loss: 1.1951 - accuracy: 0.5885 - val_loss: 1.4581 - val_accuracy: 0.4851\n",
      "Epoch 15/25\n",
      "50000/50000 [==============================] - 6s 123us/step - loss: 1.1703 - accuracy: 0.5972 - val_loss: 1.4611 - val_accuracy: 0.4845\n",
      "Epoch 16/25\n",
      "50000/50000 [==============================] - 6s 122us/step - loss: 1.1477 - accuracy: 0.6064 - val_loss: 1.4618 - val_accuracy: 0.4893\n",
      "Epoch 17/25\n",
      "50000/50000 [==============================] - 6s 123us/step - loss: 1.1256 - accuracy: 0.6133 - val_loss: 1.4620 - val_accuracy: 0.4878\n",
      "Epoch 18/25\n",
      "50000/50000 [==============================] - 6s 124us/step - loss: 1.1025 - accuracy: 0.6235 - val_loss: 1.4552 - val_accuracy: 0.4881\n",
      "Epoch 19/25\n",
      "50000/50000 [==============================] - 6s 125us/step - loss: 1.0801 - accuracy: 0.6314 - val_loss: 1.4618 - val_accuracy: 0.4900\n",
      "Epoch 20/25\n",
      "50000/50000 [==============================] - 6s 126us/step - loss: 1.0580 - accuracy: 0.6406 - val_loss: 1.4558 - val_accuracy: 0.4886\n",
      "Epoch 21/25\n",
      "50000/50000 [==============================] - 6s 127us/step - loss: 1.0391 - accuracy: 0.6480 - val_loss: 1.4500 - val_accuracy: 0.4927\n",
      "Epoch 22/25\n",
      "50000/50000 [==============================] - 6s 127us/step - loss: 1.0176 - accuracy: 0.6568 - val_loss: 1.4461 - val_accuracy: 0.4954\n",
      "Epoch 23/25\n",
      "50000/50000 [==============================] - 6s 128us/step - loss: 0.9964 - accuracy: 0.6647 - val_loss: 1.4585 - val_accuracy: 0.4934\n",
      "Epoch 24/25\n",
      "50000/50000 [==============================] - 7s 130us/step - loss: 0.9757 - accuracy: 0.6719 - val_loss: 1.4565 - val_accuracy: 0.4921\n",
      "Epoch 25/25\n",
      "50000/50000 [==============================] - 7s 137us/step - loss: 0.9545 - accuracy: 0.6819 - val_loss: 1.4612 - val_accuracy: 0.4927\n"
     ]
    }
   ],
   "source": [
    "model = build_mlp(input_shape=x_train.shape[1:])\n",
    "model.summary()\n",
    "optimizer = keras.optimizers.SGD(lr=LEARNING_RATE, nesterov=True, momentum=MOMENTUM)\n",
    "model.compile(loss=\"categorical_crossentropy\", metrics=[\"accuracy\"], optimizer=optimizer)\n",
    "\n",
    "\"\"\"Code Here\n",
    "將 callbacks 放入模型訓練流程中\n",
    "\"\"\"\n",
    "model.fit(x_train, y_train, \n",
    "          epochs=EPOCHS, \n",
    "          batch_size=BATCH_SIZE, \n",
    "          validation_data=(x_test, y_test), \n",
    "          shuffle=True,\n",
    "          callbacks=[rec_tptn]\n",
    "         )\n",
    "\n",
    "# Collect results\n",
    "train_loss = model.history.history[\"loss\"]\n",
    "valid_loss = model.history.history[\"val_loss\"]\n",
    "train_acc = model.history.history[\"accuracy\"]\n",
    "valid_acc = model.history.history[\"val_accuracy\"]\n",
    "\n",
    "\"\"\"Code Here\n",
    "將 tp/tn 從訓練完的模型中取出\n",
    "\"\"\"\n",
    "valid_tp = model.history.history['val_tp']\n",
    "valid_tn = model.history.history['val_tn']"
   ]
  },
  {
   "cell_type": "code",
   "execution_count": 34,
   "metadata": {},
   "outputs": [
    {
     "data": {
      "image/png": "[encoded data removed]",
      "text/plain": [
       "<Figure size 432x288 with 1 Axes>"
      ]
     },
     "metadata": {
      "needs_background": "light"
     },
     "output_type": "display_data"
    },
    {
     "data": {
      "image/png": "[encoded data removed]",
      "text/plain": [
       "<Figure size 432x288 with 1 Axes>"
      ]
     },
     "metadata": {
      "needs_background": "light"
     },
     "output_type": "display_data"
    },
    {
     "data": {
      "image/png": "[encoded data removed]",
      "text/plain": [
       "<Figure size 432x288 with 1 Axes>"
      ]
     },
     "metadata": {
      "needs_background": "light"
     },
     "output_type": "display_data"
    }
   ],
   "source": [
    "import matplotlib.pyplot as plt\n",
    "%matplotlib inline\n",
    "\n",
    "plt.plot(range(len(train_loss)), train_loss, label=\"train loss\")\n",
    "plt.plot(range(len(valid_loss)), valid_loss, label=\"valid loss\")\n",
    "plt.legend()\n",
    "plt.title(\"Loss\")\n",
    "plt.show()\n",
    "\n",
    "plt.plot(range(len(train_acc)), train_acc, label=\"train accuracy\")\n",
    "plt.plot(range(len(valid_acc)), valid_acc, label=\"valid accuracy\")\n",
    "plt.legend()\n",
    "plt.title(\"Accuracy\")\n",
    "plt.show()\n",
    "\n",
    "plt.plot(range(len(valid_tp)), valid_tp, label=\"valid tp\", color=\"navy\")\n",
    "plt.plot(range(len(valid_tn)), valid_tn, label=\"valid tn\", color=\"red\")\n",
    "plt.legend()\n",
    "plt.title(\"True positives and True Negatives\")\n",
    "plt.show()\n"
   ]
  },
  {
   "cell_type": "code",
   "execution_count": null,
   "metadata": {},
   "outputs": [],
   "source": []
  }
 ],
 "metadata": {
  "kernelspec": {
   "display_name": "Python 3",
   "language": "python",
   "name": "python3"
  },
  "language_info": {
   "codemirror_mode": {
    "name": "ipython",
    "version": 3
   },
   "file_extension": ".py",
   "mimetype": "text/x-python",
   "name": "python",
   "nbconvert_exporter": "python",
   "pygments_lexer": "ipython3",
   "version": "3.7.3"
  }
 },
 "nbformat": 4,
 "nbformat_minor": 2
}
