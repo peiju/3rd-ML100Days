{
 "cells": [
  {
   "cell_type": "markdown",
   "metadata": {},
   "source": [
    "## Work\n",
    "### 請結合前面的知識與程式碼，比較不同的 regularization 的組合對訓練的結果與影響：如 dropout, regularizers, batch-normalization 等"
   ]
  },
  {
   "cell_type": "code",
   "execution_count": 1,
   "metadata": {},
   "outputs": [
    {
     "name": "stderr",
     "output_type": "stream",
     "text": [
      "Using TensorFlow backend.\n"
     ]
    }
   ],
   "source": [
    "import os\n",
    "import keras\n",
    "import itertools\n",
    "# Disable GPU\n",
    "os.environ[\"CUDA_VISIBLE_DEVICES\"] = \"\""
   ]
  },
  {
   "cell_type": "code",
   "execution_count": 2,
   "metadata": {},
   "outputs": [],
   "source": [
    "train, test = keras.datasets.cifar10.load_data()"
   ]
  },
  {
   "cell_type": "code",
   "execution_count": 3,
   "metadata": {},
   "outputs": [],
   "source": [
    "## 資料前處理\n",
    "def preproc_x(x, flatten=True):\n",
    "    x = x / 255.\n",
    "    if flatten:\n",
    "        x = x.reshape((len(x), -1))\n",
    "    return x\n",
    "\n",
    "def preproc_y(y, num_classes=10):\n",
    "    if y.shape[-1] == 1:\n",
    "        y = keras.utils.to_categorical(y, num_classes)\n",
    "    return y    "
   ]
  },
  {
   "cell_type": "code",
   "execution_count": 4,
   "metadata": {},
   "outputs": [],
   "source": [
    "x_train, y_train = train\n",
    "x_test, y_test = test\n",
    "\n",
    "# Preproc the inputs\n",
    "x_train = preproc_x(x_train)\n",
    "x_test = preproc_x(x_test)\n",
    "\n",
    "# Preprc the outputs\n",
    "y_train = preproc_y(y_train)\n",
    "y_test = preproc_y(y_test)"
   ]
  },
  {
   "cell_type": "code",
   "execution_count": 13,
   "metadata": {},
   "outputs": [],
   "source": [
    "from keras.regularizers import l1_l2\n",
    "from keras.layers import Dropout\n",
    "from keras.layers import BatchNormalization\n",
    "\n",
    "def build_mlp(input_shape, output_units=10, num_neurons=[512, 256, 128], l1_ratio = 1e-4, l2_ratio=1e-4, drp_ratio=0.2):\n",
    "    input_layer = keras.layers.Input(input_shape)\n",
    "    \n",
    "    for i, n_units in enumerate(num_neurons):\n",
    "        if i == 0:\n",
    "            x = keras.layers.Dense(units=n_units, activation=\"relu\", \n",
    "                                   kernel_regularizer=l1_l2(l1=l1_ratio, l2=l2_ratio), \n",
    "                                   name=\"hidden_layer\"+str(i+1))(input_layer)\n",
    "            x = BatchNormalization()(x)\n",
    "        else:\n",
    "            x = keras.layers.Dense(units=n_units, activation=\"relu\", \n",
    "                                   kernel_regularizer=l1_l2(l1=l1_ratio, l2=l2_ratio), \n",
    "                                   name=\"hidden_layer\"+str(i+1))(x)\n",
    "            x = Dropout(drp_ratio)(x)\n",
    "    \n",
    "    out = keras.layers.Dense(units=output_units, activation=\"softmax\", name=\"output\")(x)\n",
    "    \n",
    "    model = keras.models.Model(inputs=[input_layer], outputs=[out])\n",
    "    return model"
   ]
  },
  {
   "cell_type": "code",
   "execution_count": 14,
   "metadata": {},
   "outputs": [],
   "source": [
    "\"\"\"Code Here\n",
    "設定超參數\n",
    "\"\"\"\n",
    "LEARNING_RATE = 1e-3\n",
    "EPOCHS = 20\n",
    "BATCH_SIZE = 256\n",
    "MOMENTUM = 0.95"
   ]
  },
  {
   "cell_type": "code",
   "execution_count": 15,
   "metadata": {
    "scrolled": true
   },
   "outputs": [
    {
     "name": "stdout",
     "output_type": "stream",
     "text": [
      "Model: \"model_1\"\n",
      "_________________________________________________________________\n",
      "Layer (type)                 Output Shape              Param #   \n",
      "=================================================================\n",
      "input_4 (InputLayer)         (None, 3072)              0         \n",
      "_________________________________________________________________\n",
      "hidden_layer1 (Dense)        (None, 512)               1573376   \n",
      "_________________________________________________________________\n",
      "batch_normalization_1 (Batch (None, 512)               2048      \n",
      "_________________________________________________________________\n",
      "hidden_layer2 (Dense)        (None, 256)               131328    \n",
      "_________________________________________________________________\n",
      "dropout_1 (Dropout)          (None, 256)               0         \n",
      "_________________________________________________________________\n",
      "hidden_layer3 (Dense)        (None, 128)               32896     \n",
      "_________________________________________________________________\n",
      "dropout_2 (Dropout)          (None, 128)               0         \n",
      "_________________________________________________________________\n",
      "output (Dense)               (None, 10)                1290      \n",
      "=================================================================\n",
      "Total params: 1,740,938\n",
      "Trainable params: 1,739,914\n",
      "Non-trainable params: 1,024\n",
      "_________________________________________________________________\n",
      "Train on 50000 samples, validate on 10000 samples\n",
      "Epoch 1/20\n",
      "50000/50000 [==============================] - 10s 192us/step - loss: 6.1103 - accuracy: 0.2874 - val_loss: 5.8889 - val_accuracy: 0.3907\n",
      "Epoch 2/20\n",
      "50000/50000 [==============================] - 9s 189us/step - loss: 5.7696 - accuracy: 0.3859 - val_loss: 5.6437 - val_accuracy: 0.4177\n",
      "Epoch 3/20\n",
      "50000/50000 [==============================] - 9s 187us/step - loss: 5.6087 - accuracy: 0.4175 - val_loss: 5.5234 - val_accuracy: 0.4353\n",
      "Epoch 4/20\n",
      "50000/50000 [==============================] - 10s 194us/step - loss: 5.4865 - accuracy: 0.4363 - val_loss: 5.3831 - val_accuracy: 0.4625\n",
      "Epoch 5/20\n",
      "50000/50000 [==============================] - 10s 200us/step - loss: 5.3701 - accuracy: 0.4526 - val_loss: 5.3257 - val_accuracy: 0.4568\n",
      "Epoch 6/20\n",
      "50000/50000 [==============================] - 10s 201us/step - loss: 5.2586 - accuracy: 0.4644 - val_loss: 5.1984 - val_accuracy: 0.4767\n",
      "Epoch 7/20\n",
      "50000/50000 [==============================] - 10s 205us/step - loss: 5.1640 - accuracy: 0.4768 - val_loss: 5.1102 - val_accuracy: 0.4796\n",
      "Epoch 8/20\n",
      "50000/50000 [==============================] - 10s 208us/step - loss: 5.0635 - accuracy: 0.4841 - val_loss: 5.0451 - val_accuracy: 0.4793\n",
      "Epoch 9/20\n",
      "50000/50000 [==============================] - 10s 209us/step - loss: 4.9750 - accuracy: 0.4914 - val_loss: 4.9655 - val_accuracy: 0.4859\n",
      "Epoch 10/20\n",
      "50000/50000 [==============================] - 11s 213us/step - loss: 4.8883 - accuracy: 0.5017 - val_loss: 4.8784 - val_accuracy: 0.4861\n",
      "Epoch 11/20\n",
      "50000/50000 [==============================] - 11s 215us/step - loss: 4.8025 - accuracy: 0.5055 - val_loss: 4.8297 - val_accuracy: 0.4776\n",
      "Epoch 12/20\n",
      "50000/50000 [==============================] - 11s 220us/step - loss: 4.7261 - accuracy: 0.5091 - val_loss: 4.7507 - val_accuracy: 0.4880\n",
      "Epoch 13/20\n",
      "50000/50000 [==============================] - 11s 222us/step - loss: 4.6418 - accuracy: 0.5177 - val_loss: 4.7012 - val_accuracy: 0.4785\n",
      "Epoch 14/20\n",
      "50000/50000 [==============================] - 11s 225us/step - loss: 4.5651 - accuracy: 0.5217 - val_loss: 4.5936 - val_accuracy: 0.5001\n",
      "Epoch 15/20\n",
      "50000/50000 [==============================] - 11s 228us/step - loss: 4.4850 - accuracy: 0.5281 - val_loss: 4.5465 - val_accuracy: 0.4942\n",
      "Epoch 16/20\n",
      "50000/50000 [==============================] - 12s 231us/step - loss: 4.4173 - accuracy: 0.5316 - val_loss: 4.4901 - val_accuracy: 0.4927\n",
      "Epoch 17/20\n",
      "50000/50000 [==============================] - 12s 236us/step - loss: 4.3456 - accuracy: 0.5368 - val_loss: 4.4508 - val_accuracy: 0.4822\n",
      "Epoch 18/20\n",
      "50000/50000 [==============================] - 12s 237us/step - loss: 4.2697 - accuracy: 0.5418 - val_loss: 4.3686 - val_accuracy: 0.4934\n",
      "Epoch 19/20\n",
      "50000/50000 [==============================] - 13s 250us/step - loss: 4.2062 - accuracy: 0.5401 - val_loss: 4.3297 - val_accuracy: 0.4797\n",
      "Epoch 20/20\n",
      "50000/50000 [==============================] - 13s 260us/step - loss: 4.1376 - accuracy: 0.5473 - val_loss: 4.2297 - val_accuracy: 0.5022\n"
     ]
    }
   ],
   "source": [
    "results = {}\n",
    "\"\"\"Code Here\n",
    "撰寫你的訓練流程並將結果用 dictionary 紀錄\n",
    "\"\"\"\n",
    "model = build_mlp(input_shape=x_train.shape[1:])\n",
    "model.summary()\n",
    "optimizer = keras.optimizers.SGD(lr=LEARNING_RATE, nesterov=True, momentum=MOMENTUM)\n",
    "model.compile(loss=\"categorical_crossentropy\", metrics=[\"accuracy\"], optimizer=optimizer)\n",
    "\n",
    "model.fit(x_train, y_train, \n",
    "          epochs=EPOCHS, \n",
    "          batch_size=BATCH_SIZE, \n",
    "          validation_data=(x_test, y_test), \n",
    "          shuffle=True)\n",
    "\n",
    "# Collect results\n",
    "train_loss = model.history.history[\"loss\"]\n",
    "valid_loss = model.history.history[\"val_loss\"]\n",
    "train_acc = model.history.history[\"accuracy\"]\n",
    "valid_acc = model.history.history[\"val_accuracy\"]\n",
    "\n",
    "results[\"exp\"] = {'train-loss': train_loss,\n",
    "                         'valid-loss': valid_loss,\n",
    "                         'train-acc': train_acc,\n",
    "                         'valid-acc': valid_acc}\n"
   ]
  },
  {
   "cell_type": "code",
   "execution_count": 16,
   "metadata": {},
   "outputs": [
    {
     "data": {
      "image/png": "[encoded data removed]",
      "text/plain": [
       "<Figure size 576x432 with 1 Axes>"
      ]
     },
     "metadata": {
      "needs_background": "light"
     },
     "output_type": "display_data"
    },
    {
     "data": {
      "image/png": "[encoded data removed]",
      "text/plain": [
       "<Figure size 576x432 with 1 Axes>"
      ]
     },
     "metadata": {
      "needs_background": "light"
     },
     "output_type": "display_data"
    }
   ],
   "source": [
    "import matplotlib.pyplot as plt\n",
    "%matplotlib inline\n",
    "\"\"\"Code Here\n",
    "將結果繪出\n",
    "\"\"\"\n",
    "\n",
    "color_bar = [\"r\"]\n",
    "\n",
    "plt.figure(figsize=(8,6))\n",
    "for i, cond in enumerate(results.keys()):\n",
    "    plt.plot(range(len(results[cond]['train-loss'])),results[cond]['train-loss'], '-', label=cond, color=color_bar[i])\n",
    "    plt.plot(range(len(results[cond]['valid-loss'])),results[cond]['valid-loss'], '--', label=cond, color=color_bar[i])\n",
    "plt.title(\"Loss\")\n",
    "plt.ylim([0, 5])\n",
    "plt.legend()\n",
    "plt.show()\n",
    "\n",
    "plt.figure(figsize=(8,6))\n",
    "for i, cond in enumerate(results.keys()):\n",
    "    plt.plot(range(len(results[cond]['train-acc'])),results[cond]['train-acc'], '-', label=cond, color=color_bar[i])\n",
    "    plt.plot(range(len(results[cond]['valid-acc'])),results[cond]['valid-acc'], '--', label=cond, color=color_bar[i])\n",
    "plt.title(\"Accuracy\")\n",
    "plt.legend()\n",
    "plt.show()"
   ]
  },
  {
   "cell_type": "code",
   "execution_count": null,
   "metadata": {},
   "outputs": [],
   "source": []
  }
 ],
 "metadata": {
  "kernelspec": {
   "display_name": "Python 3",
   "language": "python",
   "name": "python3"
  },
  "language_info": {
   "codemirror_mode": {
    "name": "ipython",
    "version": 3
   },
   "file_extension": ".py",
   "mimetype": "text/x-python",
   "name": "python",
   "nbconvert_exporter": "python",
   "pygments_lexer": "ipython3",
   "version": "3.7.3"
  }
 },
 "nbformat": 4,
 "nbformat_minor": 2
}
