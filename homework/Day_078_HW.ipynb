{
 "cells": [
  {
   "cell_type": "markdown",
   "metadata": {},
   "source": [
    "## Work\n",
    "1. 請嘗試將 preproc_x 替換成以每筆資料的 min/max 進行標準化至 -1 ~ 1 間，再進行訓練\n",
    "2. 請嘗試將 mlp 疊更深 (e.g 5~10 層)，進行訓練後觀察 learning curve 的走勢\n",
    "3. (optional) 請改用 GPU 進行訓練 (如果你有 GPU 的話)，比較使用 CPU 與 GPU 的訓練速度"
   ]
  },
  {
   "cell_type": "code",
   "execution_count": 1,
   "metadata": {},
   "outputs": [],
   "source": [
    "## \n",
    "\"\"\"\n",
    "Your code here (optional)\n",
    "確認硬體資源\n",
    "\"\"\"\n"
   ]
  },
  {
   "cell_type": "code",
   "execution_count": 1,
   "metadata": {},
   "outputs": [
    {
     "name": "stderr",
     "output_type": "stream",
     "text": [
      "Using TensorFlow backend.\n"
     ]
    }
   ],
   "source": [
    "import os\n",
    "import keras\n",
    "\n",
    "# 請嘗試設定 GPU：os.environ\n",
    "os.environ[\"CUDA_VISIBLE_DEVICES\"] = \"\""
   ]
  },
  {
   "cell_type": "code",
   "execution_count": 2,
   "metadata": {},
   "outputs": [],
   "source": [
    "train, test = keras.datasets.cifar10.load_data()"
   ]
  },
  {
   "cell_type": "code",
   "execution_count": 3,
   "metadata": {},
   "outputs": [],
   "source": [
    "## 資料前處理\n",
    "\"\"\"\n",
    "Your code here\n",
    "\"\"\"\n",
    "from sklearn.preprocessing import MinMaxScaler\n",
    "\n",
    "scaler = MinMaxScaler((-1, 1))\n",
    "# 將 preproc_x 替換成以每筆資料的 min/max 進行標準化至 -1 ~ 1 間，再進行訓練\n",
    "def preproc_x(x, is_train=True):\n",
    "    x = x.reshape((len(x), -1))\n",
    "    \n",
    "    if is_train:\n",
    "        scaler.fit_transform(x)\n",
    "    else:\n",
    "        scaler.transform(x)\n",
    "        \n",
    "    return x\n",
    "\n",
    "def preproc_y(y, num_classes=10):\n",
    "    if y.shape[-1] == 1:\n",
    "        y = keras.utils.to_categorical(y, num_classes)\n",
    "    return y    "
   ]
  },
  {
   "cell_type": "code",
   "execution_count": 4,
   "metadata": {},
   "outputs": [],
   "source": [
    "x_train, y_train = train\n",
    "x_test, y_test = test\n",
    "\n",
    "# Preproc the inputs\n",
    "x_train = preproc_x(x_train)\n",
    "x_test = preproc_x(x_test, is_train=False)\n",
    "\n",
    "# Preprc the outputs\n",
    "y_train = preproc_y(y_train)\n",
    "y_test = preproc_y(y_test)"
   ]
  },
  {
   "cell_type": "code",
   "execution_count": 5,
   "metadata": {},
   "outputs": [
    {
     "name": "stdout",
     "output_type": "stream",
     "text": [
      "Model: \"model_1\"\n",
      "_________________________________________________________________\n",
      "Layer (type)                 Output Shape              Param #   \n",
      "=================================================================\n",
      "input_1 (InputLayer)         (None, 3072)              0         \n",
      "_________________________________________________________________\n",
      "hidden_layer1 (Dense)        (None, 512)               1573376   \n",
      "_________________________________________________________________\n",
      "hidden_layer2 (Dense)        (None, 256)               131328    \n",
      "_________________________________________________________________\n",
      "hidden_layer3 (Dense)        (None, 128)               32896     \n",
      "_________________________________________________________________\n",
      "hidden_layer4 (Dense)        (None, 64)                8256      \n",
      "_________________________________________________________________\n",
      "hidden_layer5 (Dense)        (None, 32)                2080      \n",
      "_________________________________________________________________\n",
      "output (Dense)               (None, 10)                330       \n",
      "=================================================================\n",
      "Total params: 1,748,266\n",
      "Trainable params: 1,748,266\n",
      "Non-trainable params: 0\n",
      "_________________________________________________________________\n"
     ]
    }
   ],
   "source": [
    "\"\"\"Code Here\n",
    "建立你的神經網路\n",
    "\"\"\"\n",
    "# 將 mlp 疊更深 (e.g 5~10 層)，進行訓練後觀察 learning curve 的走勢\n",
    "def build_mlp(input_shape, output_units=10, num_neurons=[512, 256, 128, 64, 32]):\n",
    "    input_layer = keras.layers.Input(input_shape)\n",
    "    \n",
    "    for i, n_units in enumerate(num_neurons):\n",
    "        if i == 0:\n",
    "            x = keras.layers.Dense(units=n_units, activation=\"relu\", name=\"hidden_layer\"+str(i+1))(input_layer)\n",
    "        else:\n",
    "            x = keras.layers.Dense(units=n_units, activation=\"relu\", name=\"hidden_layer\"+str(i+1))(x)\n",
    "    \n",
    "    out = keras.layers.Dense(units=output_units, activation=\"softmax\", name=\"output\")(x)\n",
    "    \n",
    "    model = keras.models.Model(inputs=[input_layer], outputs=[out])\n",
    "    return model\n",
    "\n",
    "model = build_mlp(input_shape=x_train.shape[1:])\n",
    "model.summary()"
   ]
  },
  {
   "cell_type": "code",
   "execution_count": 6,
   "metadata": {},
   "outputs": [],
   "source": [
    "## 超參數設定\n",
    "LEARNING_RATE = 0.001\n",
    "EPOCHS = 100\n",
    "BATCH_SIZE = 256"
   ]
  },
  {
   "cell_type": "code",
   "execution_count": 7,
   "metadata": {},
   "outputs": [],
   "source": [
    "optimizer = keras.optimizers.Adam(lr=LEARNING_RATE)\n",
    "model.compile(loss=\"categorical_crossentropy\", metrics=[\"accuracy\"], optimizer=optimizer)"
   ]
  },
  {
   "cell_type": "code",
   "execution_count": 8,
   "metadata": {
    "scrolled": true
   },
   "outputs": [
    {
     "name": "stdout",
     "output_type": "stream",
     "text": [
      "Train on 50000 samples, validate on 10000 samples\n",
      "Epoch 1/100\n",
      "50000/50000 [==============================] - 7s 134us/step - loss: 37.0673 - accuracy: 0.1393 - val_loss: 4.3658 - val_accuracy: 0.1685\n",
      "Epoch 2/100\n",
      "50000/50000 [==============================] - 7s 131us/step - loss: 3.7013 - accuracy: 0.1990 - val_loss: 4.1878 - val_accuracy: 0.1802\n",
      "Epoch 3/100\n",
      "50000/50000 [==============================] - 6s 128us/step - loss: 2.7530 - accuracy: 0.2317 - val_loss: 2.2401 - val_accuracy: 0.2683\n",
      "Epoch 4/100\n",
      "50000/50000 [==============================] - 7s 150us/step - loss: 2.2658 - accuracy: 0.2729 - val_loss: 2.2810 - val_accuracy: 0.2624\n",
      "Epoch 5/100\n",
      "50000/50000 [==============================] - 8s 150us/step - loss: 2.0440 - accuracy: 0.3066 - val_loss: 2.1660 - val_accuracy: 0.2769\n",
      "Epoch 6/100\n",
      "50000/50000 [==============================] - 8s 155us/step - loss: 1.9658 - accuracy: 0.3282 - val_loss: 1.8895 - val_accuracy: 0.3482\n",
      "Epoch 7/100\n",
      "50000/50000 [==============================] - 7s 148us/step - loss: 1.8510 - accuracy: 0.3576 - val_loss: 1.8330 - val_accuracy: 0.3730\n",
      "Epoch 8/100\n",
      "50000/50000 [==============================] - 8s 153us/step - loss: 1.8421 - accuracy: 0.3603 - val_loss: 1.7935 - val_accuracy: 0.3724\n",
      "Epoch 9/100\n",
      "50000/50000 [==============================] - 8s 159us/step - loss: 1.7897 - accuracy: 0.3792 - val_loss: 1.9742 - val_accuracy: 0.3297\n",
      "Epoch 10/100\n",
      "50000/50000 [==============================] - 8s 150us/step - loss: 1.7574 - accuracy: 0.3892 - val_loss: 1.9073 - val_accuracy: 0.3551\n",
      "Epoch 11/100\n",
      "50000/50000 [==============================] - 8s 159us/step - loss: 1.7441 - accuracy: 0.3939 - val_loss: 1.7710 - val_accuracy: 0.3886\n",
      "Epoch 12/100\n",
      "50000/50000 [==============================] - 8s 152us/step - loss: 1.6981 - accuracy: 0.4083 - val_loss: 1.7219 - val_accuracy: 0.3904\n",
      "Epoch 13/100\n",
      "50000/50000 [==============================] - 8s 154us/step - loss: 1.6926 - accuracy: 0.4095 - val_loss: 1.7056 - val_accuracy: 0.3985\n",
      "Epoch 14/100\n",
      "50000/50000 [==============================] - 8s 156us/step - loss: 1.6499 - accuracy: 0.4251 - val_loss: 1.7232 - val_accuracy: 0.3953\n",
      "Epoch 15/100\n",
      "50000/50000 [==============================] - 8s 158us/step - loss: 1.6370 - accuracy: 0.4291 - val_loss: 1.7663 - val_accuracy: 0.3914\n",
      "Epoch 16/100\n",
      "50000/50000 [==============================] - 8s 160us/step - loss: 1.6342 - accuracy: 0.4294 - val_loss: 1.7936 - val_accuracy: 0.3844\n",
      "Epoch 17/100\n",
      "50000/50000 [==============================] - 8s 160us/step - loss: 1.5972 - accuracy: 0.4395 - val_loss: 1.6608 - val_accuracy: 0.4192\n",
      "Epoch 18/100\n",
      "50000/50000 [==============================] - 8s 163us/step - loss: 1.5791 - accuracy: 0.4466 - val_loss: 1.6390 - val_accuracy: 0.4268\n",
      "Epoch 19/100\n",
      "50000/50000 [==============================] - 8s 163us/step - loss: 1.5861 - accuracy: 0.4440 - val_loss: 1.6696 - val_accuracy: 0.4111\n",
      "Epoch 20/100\n",
      "50000/50000 [==============================] - 8s 165us/step - loss: 1.5654 - accuracy: 0.4532 - val_loss: 1.6919 - val_accuracy: 0.4046\n",
      "Epoch 21/100\n",
      "50000/50000 [==============================] - 8s 166us/step - loss: 1.5418 - accuracy: 0.4572 - val_loss: 1.6037 - val_accuracy: 0.4379\n",
      "Epoch 22/100\n",
      "50000/50000 [==============================] - 8s 168us/step - loss: 1.5381 - accuracy: 0.4585 - val_loss: 1.6535 - val_accuracy: 0.4192\n",
      "Epoch 23/100\n",
      "50000/50000 [==============================] - 9s 172us/step - loss: 1.5274 - accuracy: 0.4609 - val_loss: 1.5868 - val_accuracy: 0.4403\n",
      "Epoch 24/100\n",
      "50000/50000 [==============================] - 9s 174us/step - loss: 1.5115 - accuracy: 0.4705 - val_loss: 1.6079 - val_accuracy: 0.4300\n",
      "Epoch 25/100\n",
      "50000/50000 [==============================] - 9s 176us/step - loss: 1.5292 - accuracy: 0.4593 - val_loss: 1.6018 - val_accuracy: 0.4332\n",
      "Epoch 26/100\n",
      "50000/50000 [==============================] - 9s 181us/step - loss: 1.4864 - accuracy: 0.4733 - val_loss: 1.5850 - val_accuracy: 0.4401\n",
      "Epoch 27/100\n",
      "50000/50000 [==============================] - 9s 185us/step - loss: 1.4895 - accuracy: 0.4751 - val_loss: 1.7049 - val_accuracy: 0.4022\n",
      "Epoch 28/100\n",
      "50000/50000 [==============================] - 9s 189us/step - loss: 1.5054 - accuracy: 0.4690 - val_loss: 1.6399 - val_accuracy: 0.4214\n",
      "Epoch 29/100\n",
      "50000/50000 [==============================] - 10s 193us/step - loss: 1.4809 - accuracy: 0.4747 - val_loss: 1.6703 - val_accuracy: 0.4027\n",
      "Epoch 30/100\n",
      "50000/50000 [==============================] - 10s 198us/step - loss: 1.4395 - accuracy: 0.4916 - val_loss: 1.6139 - val_accuracy: 0.4292\n",
      "Epoch 31/100\n",
      "50000/50000 [==============================] - 10s 202us/step - loss: 1.4639 - accuracy: 0.4807 - val_loss: 1.5482 - val_accuracy: 0.4533\n",
      "Epoch 32/100\n",
      "50000/50000 [==============================] - 10s 208us/step - loss: 1.4313 - accuracy: 0.4931 - val_loss: 1.5339 - val_accuracy: 0.4563\n",
      "Epoch 33/100\n",
      "50000/50000 [==============================] - 11s 215us/step - loss: 1.4273 - accuracy: 0.4916 - val_loss: 1.5937 - val_accuracy: 0.4366\n",
      "Epoch 34/100\n",
      "50000/50000 [==============================] - 11s 221us/step - loss: 1.4233 - accuracy: 0.4938 - val_loss: 1.5166 - val_accuracy: 0.4684\n",
      "Epoch 35/100\n",
      "50000/50000 [==============================] - 11s 229us/step - loss: 1.4201 - accuracy: 0.4961 - val_loss: 1.5745 - val_accuracy: 0.4461\n",
      "Epoch 36/100\n",
      "50000/50000 [==============================] - 11s 222us/step - loss: 1.3953 - accuracy: 0.5038 - val_loss: 1.5325 - val_accuracy: 0.4572\n",
      "Epoch 37/100\n",
      "50000/50000 [==============================] - 11s 227us/step - loss: 1.4009 - accuracy: 0.5030 - val_loss: 1.5566 - val_accuracy: 0.4583\n",
      "Epoch 38/100\n",
      "50000/50000 [==============================] - 13s 252us/step - loss: 1.3862 - accuracy: 0.5099 - val_loss: 1.5541 - val_accuracy: 0.4473\n",
      "Epoch 39/100\n",
      "50000/50000 [==============================] - 11s 225us/step - loss: 1.3933 - accuracy: 0.5029 - val_loss: 1.5175 - val_accuracy: 0.4628\n",
      "Epoch 40/100\n",
      "50000/50000 [==============================] - 11s 221us/step - loss: 1.3813 - accuracy: 0.5083 - val_loss: 1.5129 - val_accuracy: 0.4691\n",
      "Epoch 41/100\n",
      "50000/50000 [==============================] - 11s 221us/step - loss: 1.3772 - accuracy: 0.5094 - val_loss: 1.4466 - val_accuracy: 0.4908\n",
      "Epoch 42/100\n",
      "50000/50000 [==============================] - 11s 226us/step - loss: 1.3436 - accuracy: 0.5208 - val_loss: 1.5568 - val_accuracy: 0.4576\n",
      "Epoch 43/100\n",
      "50000/50000 [==============================] - 11s 224us/step - loss: 1.3415 - accuracy: 0.5239 - val_loss: 1.4956 - val_accuracy: 0.4765\n",
      "Epoch 44/100\n",
      "50000/50000 [==============================] - 11s 225us/step - loss: 1.3345 - accuracy: 0.5235 - val_loss: 1.4730 - val_accuracy: 0.4797\n",
      "Epoch 45/100\n",
      "50000/50000 [==============================] - 11s 224us/step - loss: 1.3331 - accuracy: 0.5255 - val_loss: 1.5325 - val_accuracy: 0.4666\n",
      "Epoch 46/100\n",
      "50000/50000 [==============================] - 11s 224us/step - loss: 1.3338 - accuracy: 0.5275 - val_loss: 1.5123 - val_accuracy: 0.4670\n",
      "Epoch 47/100\n",
      "50000/50000 [==============================] - 11s 221us/step - loss: 1.2945 - accuracy: 0.5397 - val_loss: 1.5512 - val_accuracy: 0.4608\n",
      "Epoch 48/100\n",
      "50000/50000 [==============================] - 11s 221us/step - loss: 1.3114 - accuracy: 0.5314 - val_loss: 1.4320 - val_accuracy: 0.4961\n",
      "Epoch 49/100\n",
      "50000/50000 [==============================] - 11s 223us/step - loss: 1.2788 - accuracy: 0.5420 - val_loss: 1.5484 - val_accuracy: 0.4611\n",
      "Epoch 50/100\n",
      "50000/50000 [==============================] - 11s 224us/step - loss: 1.2950 - accuracy: 0.5396 - val_loss: 1.4739 - val_accuracy: 0.4874\n",
      "Epoch 51/100\n",
      "50000/50000 [==============================] - 11s 225us/step - loss: 1.2844 - accuracy: 0.5419 - val_loss: 1.4637 - val_accuracy: 0.4919\n",
      "Epoch 52/100\n",
      "50000/50000 [==============================] - 11s 226us/step - loss: 1.2759 - accuracy: 0.5449 - val_loss: 1.4530 - val_accuracy: 0.4943\n",
      "Epoch 53/100\n",
      "50000/50000 [==============================] - 11s 225us/step - loss: 1.2558 - accuracy: 0.5511 - val_loss: 1.5284 - val_accuracy: 0.4685\n",
      "Epoch 54/100\n",
      "50000/50000 [==============================] - 11s 227us/step - loss: 1.2593 - accuracy: 0.5510 - val_loss: 1.5088 - val_accuracy: 0.4733\n",
      "Epoch 55/100\n"
     ]
    },
    {
     "name": "stdout",
     "output_type": "stream",
     "text": [
      "50000/50000 [==============================] - 11s 217us/step - loss: 1.2392 - accuracy: 0.5574 - val_loss: 1.5299 - val_accuracy: 0.4741\n",
      "Epoch 56/100\n",
      "50000/50000 [==============================] - 11s 213us/step - loss: 1.2516 - accuracy: 0.5526 - val_loss: 1.4573 - val_accuracy: 0.4890\n",
      "Epoch 57/100\n",
      "50000/50000 [==============================] - 11s 214us/step - loss: 1.2143 - accuracy: 0.5674 - val_loss: 1.4520 - val_accuracy: 0.4941\n",
      "Epoch 58/100\n",
      "50000/50000 [==============================] - 11s 213us/step - loss: 1.2032 - accuracy: 0.5718 - val_loss: 1.5290 - val_accuracy: 0.4792\n",
      "Epoch 59/100\n",
      "50000/50000 [==============================] - 11s 213us/step - loss: 1.2169 - accuracy: 0.5654 - val_loss: 1.4861 - val_accuracy: 0.4821\n",
      "Epoch 60/100\n",
      "50000/50000 [==============================] - 11s 214us/step - loss: 1.2114 - accuracy: 0.5688 - val_loss: 1.5236 - val_accuracy: 0.4760\n",
      "Epoch 61/100\n",
      "50000/50000 [==============================] - 11s 215us/step - loss: 1.1785 - accuracy: 0.5787 - val_loss: 1.5175 - val_accuracy: 0.4837\n",
      "Epoch 62/100\n",
      "50000/50000 [==============================] - 11s 212us/step - loss: 1.1842 - accuracy: 0.5797 - val_loss: 1.4783 - val_accuracy: 0.4963\n",
      "Epoch 63/100\n",
      "50000/50000 [==============================] - 11s 212us/step - loss: 1.1700 - accuracy: 0.5807 - val_loss: 1.4718 - val_accuracy: 0.5004\n",
      "Epoch 64/100\n",
      "50000/50000 [==============================] - 11s 215us/step - loss: 1.1580 - accuracy: 0.5863 - val_loss: 1.5919 - val_accuracy: 0.4664\n",
      "Epoch 65/100\n",
      "50000/50000 [==============================] - 11s 215us/step - loss: 1.1607 - accuracy: 0.5845 - val_loss: 1.4896 - val_accuracy: 0.4989\n",
      "Epoch 66/100\n",
      "50000/50000 [==============================] - 11s 214us/step - loss: 1.1434 - accuracy: 0.5911 - val_loss: 1.5112 - val_accuracy: 0.4929\n",
      "Epoch 67/100\n",
      "50000/50000 [==============================] - 11s 214us/step - loss: 1.1411 - accuracy: 0.5931 - val_loss: 1.4644 - val_accuracy: 0.5044\n",
      "Epoch 68/100\n",
      "50000/50000 [==============================] - 11s 212us/step - loss: 1.1316 - accuracy: 0.5948 - val_loss: 1.4674 - val_accuracy: 0.5071\n",
      "Epoch 69/100\n",
      "50000/50000 [==============================] - 11s 216us/step - loss: 1.1195 - accuracy: 0.5998 - val_loss: 1.5031 - val_accuracy: 0.4975\n",
      "Epoch 70/100\n",
      "50000/50000 [==============================] - 12s 231us/step - loss: 1.1073 - accuracy: 0.6031 - val_loss: 1.5537 - val_accuracy: 0.4903\n",
      "Epoch 71/100\n",
      "50000/50000 [==============================] - 11s 218us/step - loss: 1.1064 - accuracy: 0.6047 - val_loss: 1.4661 - val_accuracy: 0.5147\n",
      "Epoch 72/100\n",
      "50000/50000 [==============================] - 11s 218us/step - loss: 1.0981 - accuracy: 0.6102 - val_loss: 1.5184 - val_accuracy: 0.4905\n",
      "Epoch 73/100\n",
      "50000/50000 [==============================] - 11s 214us/step - loss: 1.0844 - accuracy: 0.6126 - val_loss: 1.4966 - val_accuracy: 0.5058\n",
      "Epoch 74/100\n",
      "50000/50000 [==============================] - 11s 217us/step - loss: 1.0828 - accuracy: 0.6137 - val_loss: 1.4911 - val_accuracy: 0.5119\n",
      "Epoch 75/100\n",
      "50000/50000 [==============================] - 11s 214us/step - loss: 1.0820 - accuracy: 0.6145 - val_loss: 1.5253 - val_accuracy: 0.5010\n",
      "Epoch 76/100\n",
      "50000/50000 [==============================] - 11s 215us/step - loss: 1.0730 - accuracy: 0.6191 - val_loss: 1.5594 - val_accuracy: 0.4913\n",
      "Epoch 77/100\n",
      "50000/50000 [==============================] - 11s 214us/step - loss: 1.0666 - accuracy: 0.6191 - val_loss: 1.5419 - val_accuracy: 0.4961\n",
      "Epoch 78/100\n",
      "50000/50000 [==============================] - 11s 220us/step - loss: 1.0506 - accuracy: 0.6244 - val_loss: 1.5584 - val_accuracy: 0.4997\n",
      "Epoch 79/100\n",
      "50000/50000 [==============================] - 11s 214us/step - loss: 1.0469 - accuracy: 0.6275 - val_loss: 1.5353 - val_accuracy: 0.5040\n",
      "Epoch 80/100\n",
      "50000/50000 [==============================] - 11s 216us/step - loss: 1.0329 - accuracy: 0.6301 - val_loss: 1.5269 - val_accuracy: 0.5043\n",
      "Epoch 81/100\n",
      "50000/50000 [==============================] - 11s 213us/step - loss: 1.0328 - accuracy: 0.6303 - val_loss: 1.5106 - val_accuracy: 0.5077\n",
      "Epoch 82/100\n",
      "50000/50000 [==============================] - 11s 212us/step - loss: 1.0176 - accuracy: 0.6376 - val_loss: 1.5520 - val_accuracy: 0.4905\n",
      "Epoch 83/100\n",
      "50000/50000 [==============================] - 11s 217us/step - loss: 1.0150 - accuracy: 0.6377 - val_loss: 1.5514 - val_accuracy: 0.4946\n",
      "Epoch 84/100\n",
      "50000/50000 [==============================] - 11s 224us/step - loss: 1.0055 - accuracy: 0.6408 - val_loss: 1.5440 - val_accuracy: 0.5039\n",
      "Epoch 85/100\n",
      "50000/50000 [==============================] - 11s 218us/step - loss: 0.9938 - accuracy: 0.6435 - val_loss: 1.5483 - val_accuracy: 0.5019\n",
      "Epoch 86/100\n",
      "50000/50000 [==============================] - 11s 218us/step - loss: 0.9881 - accuracy: 0.6458 - val_loss: 1.6007 - val_accuracy: 0.5036\n",
      "Epoch 87/100\n",
      "50000/50000 [==============================] - 11s 218us/step - loss: 0.9844 - accuracy: 0.6501 - val_loss: 1.6394 - val_accuracy: 0.4977\n",
      "Epoch 88/100\n",
      "50000/50000 [==============================] - 11s 221us/step - loss: 0.9845 - accuracy: 0.6476 - val_loss: 1.5773 - val_accuracy: 0.5135\n",
      "Epoch 89/100\n",
      "50000/50000 [==============================] - 12s 232us/step - loss: 0.9577 - accuracy: 0.6567 - val_loss: 1.6135 - val_accuracy: 0.4955\n",
      "Epoch 90/100\n",
      "50000/50000 [==============================] - 11s 225us/step - loss: 0.9509 - accuracy: 0.6614 - val_loss: 1.6472 - val_accuracy: 0.4904\n",
      "Epoch 91/100\n",
      "50000/50000 [==============================] - 11s 222us/step - loss: 0.9578 - accuracy: 0.6596 - val_loss: 1.6561 - val_accuracy: 0.4910\n",
      "Epoch 92/100\n",
      "50000/50000 [==============================] - 11s 220us/step - loss: 0.9622 - accuracy: 0.6566 - val_loss: 1.6167 - val_accuracy: 0.5034\n",
      "Epoch 93/100\n",
      "50000/50000 [==============================] - 11s 220us/step - loss: 0.9475 - accuracy: 0.6631 - val_loss: 1.5759 - val_accuracy: 0.5058\n",
      "Epoch 94/100\n",
      "50000/50000 [==============================] - 11s 222us/step - loss: 0.9138 - accuracy: 0.6724 - val_loss: 1.5786 - val_accuracy: 0.5007\n",
      "Epoch 95/100\n",
      "50000/50000 [==============================] - 11s 223us/step - loss: 0.9210 - accuracy: 0.6730 - val_loss: 1.6071 - val_accuracy: 0.5006\n",
      "Epoch 96/100\n",
      "50000/50000 [==============================] - 11s 222us/step - loss: 0.9224 - accuracy: 0.6712 - val_loss: 1.6759 - val_accuracy: 0.5005\n",
      "Epoch 97/100\n",
      "50000/50000 [==============================] - 11s 223us/step - loss: 0.9123 - accuracy: 0.6748 - val_loss: 1.6800 - val_accuracy: 0.4984\n",
      "Epoch 98/100\n",
      "50000/50000 [==============================] - 11s 224us/step - loss: 0.9178 - accuracy: 0.6731 - val_loss: 1.6008 - val_accuracy: 0.5126\n",
      "Epoch 99/100\n",
      "50000/50000 [==============================] - 11s 224us/step - loss: 0.8941 - accuracy: 0.6811 - val_loss: 1.7119 - val_accuracy: 0.4978\n",
      "Epoch 100/100\n",
      "50000/50000 [==============================] - 11s 226us/step - loss: 0.9061 - accuracy: 0.6753 - val_loss: 1.7386 - val_accuracy: 0.4851\n"
     ]
    },
    {
     "data": {
      "text/plain": [
       "<keras.callbacks.callbacks.History at 0x11423430e10>"
      ]
     },
     "execution_count": 8,
     "metadata": {},
     "output_type": "execute_result"
    }
   ],
   "source": [
    "model.fit(x_train, y_train, \n",
    "          epochs=EPOCHS, \n",
    "          batch_size=BATCH_SIZE, \n",
    "          validation_data=(x_test, y_test), \n",
    "          shuffle=True)"
   ]
  },
  {
   "cell_type": "code",
   "execution_count": 9,
   "metadata": {},
   "outputs": [
    {
     "data": {
      "image/png": "[encoded data removed]",
      "text/plain": [
       "<Figure size 432x288 with 1 Axes>"
      ]
     },
     "metadata": {
      "needs_background": "light"
     },
     "output_type": "display_data"
    },
    {
     "data": {
      "image/png": "[encoded data removed]",
      "text/plain": [
       "<Figure size 432x288 with 1 Axes>"
      ]
     },
     "metadata": {
      "needs_background": "light"
     },
     "output_type": "display_data"
    }
   ],
   "source": [
    "import matplotlib.pyplot as plt\n",
    "%matplotlib inline\n",
    "\n",
    "\n",
    "train_loss = model.history.history[\"loss\"]\n",
    "valid_loss = model.history.history[\"val_loss\"]\n",
    "\n",
    "train_acc = model.history.history[\"accuracy\"]\n",
    "valid_acc = model.history.history[\"val_accuracy\"]\n",
    "\n",
    "plt.plot(range(len(train_loss)), train_loss, label=\"train loss\")\n",
    "plt.plot(range(len(valid_loss)), valid_loss, label=\"valid loss\")\n",
    "plt.legend()\n",
    "plt.title(\"Loss\")\n",
    "plt.show()\n",
    "\n",
    "plt.plot(range(len(train_acc)), train_acc, label=\"train accuracy\")\n",
    "plt.plot(range(len(valid_acc)), valid_acc, label=\"valid accuracy\")\n",
    "plt.legend()\n",
    "plt.title(\"Accuracy\")\n",
    "plt.show()"
   ]
  },
  {
   "cell_type": "code",
   "execution_count": null,
   "metadata": {},
   "outputs": [],
   "source": []
  }
 ],
 "metadata": {
  "kernelspec": {
   "display_name": "Python 3",
   "language": "python",
   "name": "python3"
  },
  "language_info": {
   "codemirror_mode": {
    "name": "ipython",
    "version": 3
   },
   "file_extension": ".py",
   "mimetype": "text/x-python",
   "name": "python",
   "nbconvert_exporter": "python",
   "pygments_lexer": "ipython3",
   "version": "3.7.3"
  }
 },
 "nbformat": 4,
 "nbformat_minor": 2
}
